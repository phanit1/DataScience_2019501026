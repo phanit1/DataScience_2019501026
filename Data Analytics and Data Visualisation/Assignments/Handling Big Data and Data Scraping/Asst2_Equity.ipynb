{
 "metadata": {
  "language_info": {
   "codemirror_mode": {
    "name": "ipython",
    "version": 3
   },
   "file_extension": ".py",
   "mimetype": "text/x-python",
   "name": "python",
   "nbconvert_exporter": "python",
   "pygments_lexer": "ipython3",
   "version": "3.7.4-final"
  },
  "orig_nbformat": 2,
  "kernelspec": {
   "name": "python3",
   "display_name": "Python 3.7.4 32-bit",
   "metadata": {
    "interpreter": {
     "hash": "d94ced1cfaa7a577b1a92978a713d67829e9d58ef52aaace7ec784d3a2026c54"
    }
   }
  }
 },
 "nbformat": 4,
 "nbformat_minor": 2,
 "cells": [
  {
   "cell_type": "code",
   "execution_count": 1,
   "metadata": {},
   "outputs": [],
   "source": [
    "import time, csv\n",
    "from selenium import webdriver\n",
    "from selenium.webdriver.support.ui import Select\n",
    "import datetime\n",
    "import random\n",
    "from selenium.webdriver.common.keys import Keys"
   ]
  },
  {
   "cell_type": "code",
   "execution_count": 2,
   "metadata": {},
   "outputs": [],
   "source": [
    "chromeOptions = webdriver.ChromeOptions()\n",
    "preferences = {\"download.default_directory\" : \"C:\\\\Users\\\\personal\\\\Desktop\\\\MSIT\\\\IT\\\\DataScience_2019501026\\\\Data Analytics and Data Visualisation\\\\Assignments\\\\Handling Big Data and Data Scraping\\\\Asst2_Data\"}\n",
    "chromeOptions.add_experimental_option(\"prefs\", preferences)\n",
    "chromedriver = \"C:\\\\Users\\\\personal\\Downloads\\\\chromedriver.exe\"\n",
    "driver = webdriver.Chrome(executable_path=chromedriver, options=chromeOptions)\n",
    "driver.maximize_window()"
   ]
  },
  {
   "cell_type": "code",
   "execution_count": 3,
   "metadata": {},
   "outputs": [],
   "source": [
    "url = \"https://www.bseindia.com/corporates/List_Scrips.aspx\"\n",
    "driver.get(url)"
   ]
  },
  {
   "cell_type": "code",
   "execution_count": 4,
   "metadata": {},
   "outputs": [],
   "source": [
    "# Segment selection\n",
    "select = Select(driver.find_element_by_id('ContentPlaceHolder1_ddSegment'))\n",
    "select.select_by_visible_text('Equity')\n",
    "time.sleep(2)"
   ]
  },
  {
   "cell_type": "code",
   "execution_count": 5,
   "metadata": {},
   "outputs": [],
   "source": [
    "# Status selection\n",
    "select1 = Select(driver.find_element_by_id('ContentPlaceHolder1_ddlStatus'))\n",
    "select1.select_by_visible_text('Active')\n",
    "time.sleep(2)"
   ]
  },
  {
   "cell_type": "code",
   "execution_count": 6,
   "metadata": {},
   "outputs": [],
   "source": [
    "driver.find_element_by_id(\"ContentPlaceHolder1_btnSubmit\").click()\n",
    "driver.find_element_by_id(\"ContentPlaceHolder1_lnkDownload\").click()\n",
    "time.sleep(10)"
   ]
  },
  {
   "cell_type": "code",
   "execution_count": 7,
   "metadata": {
    "tags": []
   },
   "outputs": [],
   "source": [
    "# C:\\Users\\home\\Downloads\n",
    "code = []\n",
    "f = open(\"C:\\\\Users\\\\personal\\\\Desktop\\\\MSIT\\\\IT\\\\DataScience_2019501026\\\\Data Analytics and Data Visualisation\\\\Assignments\\\\Handling Big Data and Data Scraping\\\\Asst2_Data\\\\Equity.csv\", 'r')\n",
    "readFile = csv.reader(f)\n",
    "\n",
    "for row in readFile:\n",
    "    code.append(row[0])\n",
    "\n",
    "# print(code)\n",
    "time.sleep(5)"
   ]
  },
  {
   "cell_type": "code",
   "execution_count": 8,
   "metadata": {},
   "outputs": [],
   "source": [
    "url1 = \"https://www.bseindia.com/markets/equity/EQReports/StockPrcHistori.aspx?flag=0\"\n",
    "driver.get(url1)"
   ]
  },
  {
   "cell_type": "code",
   "execution_count": 9,
   "metadata": {},
   "outputs": [],
   "source": [
    "#date\n",
    "driver.find_element_by_id(\"ContentPlaceHolder1_txtToDate\").click()\n",
    "time.sleep(3)\n",
    "x = datetime.datetime.now()\n",
    "date = str(int(x.strftime(\"%d\")))\n",
    "year = x.strftime(\"%Y\")\n",
    "driver.find_element_by_link_text(date).click()\n",
    "time.sleep(2)\n",
    "driver.find_element_by_id(\"ContentPlaceHolder1_txtFromDate\").click()\n",
    "select = Select(driver.find_element_by_class_name(\"ui-datepicker-year\"))\n",
    "pyear = str(int(year)-5)\n",
    "select.select_by_visible_text(pyear)\n",
    "driver.find_element_by_link_text(date).click()\n",
    "time.sleep(2)\n"
   ]
  },
  {
   "cell_type": "code",
   "execution_count": 10,
   "metadata": {},
   "outputs": [
    {
     "output_type": "stream",
     "name": "stdout",
     "text": [
      "542865\n",
      "533138\n",
      "538395\n",
      "513605\n",
      "530005\n",
      "531406\n",
      "533326\n",
      "500877\n",
      "542846\n",
      "542818\n",
      "531635\n",
      "509635\n",
      "520066\n",
      "522217\n",
      "530829\n",
      "524790\n",
      "538057\n",
      "511533\n",
      "526981\n",
      "531069\n",
      "526137\n",
      "542848\n",
      "504375\n",
      "500191\n",
      "511571\n",
      "543240\n",
      "500259\n",
      "505285\n",
      "532812\n",
      "532918\n",
      "531280\n",
      "531120\n",
      "531360\n",
      "523160\n",
      "511742\n",
      "532178\n",
      "533257\n",
      "532612\n",
      "543156\n",
      "533273\n"
     ]
    }
   ],
   "source": [
    "for i in range(0,40):\n",
    "    random_code = random.choice(code)\n",
    "    print(random_code)\n",
    "\n",
    "    #company id\n",
    "    search = driver.find_element_by_id('ContentPlaceHolder1_smartSearch')\n",
    "    search.clear()\n",
    "    search.send_keys(random_code)\n",
    "    driver.find_element_by_class_name(\"quotemenu\").click()\n",
    "    #download\n",
    "    driver.find_element_by_id(\"ContentPlaceHolder1_btnSubmit\").click()\n",
    "    time.sleep(3)\n",
    "    driver.find_element_by_id(\"ContentPlaceHolder1_btnDownload\").click()\n",
    "    time.sleep(10)\n",
    "\n",
    "    \n",
    "driver.close()"
   ]
  },
  {
   "cell_type": "code",
   "execution_count": null,
   "metadata": {},
   "outputs": [],
   "source": []
  }
 ]
}