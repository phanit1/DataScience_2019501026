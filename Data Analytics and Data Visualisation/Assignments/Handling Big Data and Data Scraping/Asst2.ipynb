{
 "metadata": {
  "language_info": {
   "codemirror_mode": {
    "name": "ipython",
    "version": 3
   },
   "file_extension": ".py",
   "mimetype": "text/x-python",
   "name": "python",
   "nbconvert_exporter": "python",
   "pygments_lexer": "ipython3",
   "version": "3.7.4-final"
  },
  "orig_nbformat": 2,
  "kernelspec": {
   "name": "python3",
   "display_name": "Python 3.7.4 32-bit",
   "metadata": {
    "interpreter": {
     "hash": "d94ced1cfaa7a577b1a92978a713d67829e9d58ef52aaace7ec784d3a2026c54"
    }
   }
  }
 },
 "nbformat": 4,
 "nbformat_minor": 2,
 "cells": [
  {
   "cell_type": "code",
   "execution_count": 1,
   "metadata": {},
   "outputs": [],
   "source": [
    "import pandas as pd\n",
    "import numpy as np\n",
    "import random\n",
    "import glob\n",
    "import csv, os"
   ]
  },
  {
   "cell_type": "code",
   "execution_count": 2,
   "metadata": {},
   "outputs": [],
   "source": [
    "def is_file_empty(file_path):\n",
    "    return os.path.exists(file_path) and os.stat(file_path).st_size == 0"
   ]
  },
  {
   "cell_type": "code",
   "execution_count": 3,
   "metadata": {},
   "outputs": [
    {
     "output_type": "execute_result",
     "data": {
      "text/plain": [
       "          Code      Gain\n",
       "0       500191  1.531818\n",
       "1       500259  2.825545\n",
       "2   500877 (1) -0.167069\n",
       "3   500877 (2) -0.167069\n",
       "4       500877 -0.167069\n",
       "5       504375  0.009174\n",
       "6       505285 -0.146539\n",
       "7       509635  3.936573\n",
       "8       511533  0.182879\n",
       "9       511571 -0.691000\n",
       "10      511742 -0.817810\n",
       "11      513605  0.823134\n",
       "12      520066 -0.349335\n",
       "13      522217 -0.300525\n",
       "14      523160 -0.203925\n",
       "15  524790 (1) -0.956770\n",
       "16      524790 -0.956770\n",
       "17  526137 (1)  1.340230\n",
       "18      526137  1.340230\n",
       "19      526981 -0.655860\n",
       "20      530005 -0.431838\n",
       "21      530829  0.202381\n",
       "22      531069 -0.834091\n",
       "23      531120  4.460845\n",
       "24      531280  1.013514\n",
       "25      531360  0.370992\n",
       "26      531406  0.188940\n",
       "27      531635  0.255743\n",
       "28      532178  2.070323\n",
       "29  532612 (1) -0.023462\n",
       "30      532612 -0.023462\n",
       "31      532812  1.190813\n",
       "32      532918 -0.527629\n",
       "33      533138 -0.806411\n",
       "34      533257  5.104762\n",
       "35      533273 -0.539090\n",
       "36      533326  3.529851\n",
       "37      538395 -0.433121\n",
       "38      542865  0.164017\n",
       "39      543240 -0.320567"
      ],
      "text/html": "<div>\n<style scoped>\n    .dataframe tbody tr th:only-of-type {\n        vertical-align: middle;\n    }\n\n    .dataframe tbody tr th {\n        vertical-align: top;\n    }\n\n    .dataframe thead th {\n        text-align: right;\n    }\n</style>\n<table border=\"1\" class=\"dataframe\">\n  <thead>\n    <tr style=\"text-align: right;\">\n      <th></th>\n      <th>Code</th>\n      <th>Gain</th>\n    </tr>\n  </thead>\n  <tbody>\n    <tr>\n      <th>0</th>\n      <td>500191</td>\n      <td>1.531818</td>\n    </tr>\n    <tr>\n      <th>1</th>\n      <td>500259</td>\n      <td>2.825545</td>\n    </tr>\n    <tr>\n      <th>2</th>\n      <td>500877 (1)</td>\n      <td>-0.167069</td>\n    </tr>\n    <tr>\n      <th>3</th>\n      <td>500877 (2)</td>\n      <td>-0.167069</td>\n    </tr>\n    <tr>\n      <th>4</th>\n      <td>500877</td>\n      <td>-0.167069</td>\n    </tr>\n    <tr>\n      <th>5</th>\n      <td>504375</td>\n      <td>0.009174</td>\n    </tr>\n    <tr>\n      <th>6</th>\n      <td>505285</td>\n      <td>-0.146539</td>\n    </tr>\n    <tr>\n      <th>7</th>\n      <td>509635</td>\n      <td>3.936573</td>\n    </tr>\n    <tr>\n      <th>8</th>\n      <td>511533</td>\n      <td>0.182879</td>\n    </tr>\n    <tr>\n      <th>9</th>\n      <td>511571</td>\n      <td>-0.691000</td>\n    </tr>\n    <tr>\n      <th>10</th>\n      <td>511742</td>\n      <td>-0.817810</td>\n    </tr>\n    <tr>\n      <th>11</th>\n      <td>513605</td>\n      <td>0.823134</td>\n    </tr>\n    <tr>\n      <th>12</th>\n      <td>520066</td>\n      <td>-0.349335</td>\n    </tr>\n    <tr>\n      <th>13</th>\n      <td>522217</td>\n      <td>-0.300525</td>\n    </tr>\n    <tr>\n      <th>14</th>\n      <td>523160</td>\n      <td>-0.203925</td>\n    </tr>\n    <tr>\n      <th>15</th>\n      <td>524790 (1)</td>\n      <td>-0.956770</td>\n    </tr>\n    <tr>\n      <th>16</th>\n      <td>524790</td>\n      <td>-0.956770</td>\n    </tr>\n    <tr>\n      <th>17</th>\n      <td>526137 (1)</td>\n      <td>1.340230</td>\n    </tr>\n    <tr>\n      <th>18</th>\n      <td>526137</td>\n      <td>1.340230</td>\n    </tr>\n    <tr>\n      <th>19</th>\n      <td>526981</td>\n      <td>-0.655860</td>\n    </tr>\n    <tr>\n      <th>20</th>\n      <td>530005</td>\n      <td>-0.431838</td>\n    </tr>\n    <tr>\n      <th>21</th>\n      <td>530829</td>\n      <td>0.202381</td>\n    </tr>\n    <tr>\n      <th>22</th>\n      <td>531069</td>\n      <td>-0.834091</td>\n    </tr>\n    <tr>\n      <th>23</th>\n      <td>531120</td>\n      <td>4.460845</td>\n    </tr>\n    <tr>\n      <th>24</th>\n      <td>531280</td>\n      <td>1.013514</td>\n    </tr>\n    <tr>\n      <th>25</th>\n      <td>531360</td>\n      <td>0.370992</td>\n    </tr>\n    <tr>\n      <th>26</th>\n      <td>531406</td>\n      <td>0.188940</td>\n    </tr>\n    <tr>\n      <th>27</th>\n      <td>531635</td>\n      <td>0.255743</td>\n    </tr>\n    <tr>\n      <th>28</th>\n      <td>532178</td>\n      <td>2.070323</td>\n    </tr>\n    <tr>\n      <th>29</th>\n      <td>532612 (1)</td>\n      <td>-0.023462</td>\n    </tr>\n    <tr>\n      <th>30</th>\n      <td>532612</td>\n      <td>-0.023462</td>\n    </tr>\n    <tr>\n      <th>31</th>\n      <td>532812</td>\n      <td>1.190813</td>\n    </tr>\n    <tr>\n      <th>32</th>\n      <td>532918</td>\n      <td>-0.527629</td>\n    </tr>\n    <tr>\n      <th>33</th>\n      <td>533138</td>\n      <td>-0.806411</td>\n    </tr>\n    <tr>\n      <th>34</th>\n      <td>533257</td>\n      <td>5.104762</td>\n    </tr>\n    <tr>\n      <th>35</th>\n      <td>533273</td>\n      <td>-0.539090</td>\n    </tr>\n    <tr>\n      <th>36</th>\n      <td>533326</td>\n      <td>3.529851</td>\n    </tr>\n    <tr>\n      <th>37</th>\n      <td>538395</td>\n      <td>-0.433121</td>\n    </tr>\n    <tr>\n      <th>38</th>\n      <td>542865</td>\n      <td>0.164017</td>\n    </tr>\n    <tr>\n      <th>39</th>\n      <td>543240</td>\n      <td>-0.320567</td>\n    </tr>\n  </tbody>\n</table>\n</div>"
     },
     "metadata": {},
     "execution_count": 3
    }
   ],
   "source": [
    "count = 0\n",
    "df = pd.DataFrame()\n",
    "for files in glob.glob('C:\\\\Users\\\\personal\\\\Desktop\\\\MSIT\\\\IT\\\\DataScience_2019501026\\\\Data Analytics and Data Visualisation\\\\Assignments\\\\Handling Big Data and Data Scraping\\\\Asst2_Data\\\\*.csv'):\n",
    "    if count == 40:\n",
    "        break\n",
    "    f=open(files, 'r')\n",
    "    name = os.path.basename(f.name).replace(\".csv\",\"\")\n",
    "    if is_file_empty(\"C:\\\\Users\\\\personal\\\\Desktop\\\\MSIT\\\\IT\\\\DataScience_2019501026\\\\Data Analytics and Data Visualisation\\\\Assignments\\\\Handling Big Data and Data Scraping\\\\Asst2_Data\\\\\"+name+\".csv\"):\n",
    "        continue\n",
    "    data = pd.read_csv(f)\n",
    "    gain = (data.at[data.shape[0]-1, \"Close Price\"] / data.at[0,\"Close Price\"]) - 1\n",
    "#     gain = (close[len(close)-1]/close[0])-1\n",
    "    row = {'Code': name, 'Gain': gain}\n",
    "    df = df.append(row, ignore_index=True)\n",
    "    count = count + 1\n",
    "    f.close()\n",
    "df"
   ]
  },
  {
   "cell_type": "code",
   "execution_count": 4,
   "metadata": {},
   "outputs": [
    {
     "output_type": "execute_result",
     "data": {
      "text/plain": [
       "          Code      Gain\n",
       "34      533257  5.104762\n",
       "23      531120  4.460845\n",
       "7       509635  3.936573\n",
       "36      533326  3.529851\n",
       "1       500259  2.825545\n",
       "28      532178  2.070323\n",
       "0       500191  1.531818\n",
       "18      526137  1.340230\n",
       "17  526137 (1)  1.340230\n",
       "31      532812  1.190813"
      ],
      "text/html": "<div>\n<style scoped>\n    .dataframe tbody tr th:only-of-type {\n        vertical-align: middle;\n    }\n\n    .dataframe tbody tr th {\n        vertical-align: top;\n    }\n\n    .dataframe thead th {\n        text-align: right;\n    }\n</style>\n<table border=\"1\" class=\"dataframe\">\n  <thead>\n    <tr style=\"text-align: right;\">\n      <th></th>\n      <th>Code</th>\n      <th>Gain</th>\n    </tr>\n  </thead>\n  <tbody>\n    <tr>\n      <th>34</th>\n      <td>533257</td>\n      <td>5.104762</td>\n    </tr>\n    <tr>\n      <th>23</th>\n      <td>531120</td>\n      <td>4.460845</td>\n    </tr>\n    <tr>\n      <th>7</th>\n      <td>509635</td>\n      <td>3.936573</td>\n    </tr>\n    <tr>\n      <th>36</th>\n      <td>533326</td>\n      <td>3.529851</td>\n    </tr>\n    <tr>\n      <th>1</th>\n      <td>500259</td>\n      <td>2.825545</td>\n    </tr>\n    <tr>\n      <th>28</th>\n      <td>532178</td>\n      <td>2.070323</td>\n    </tr>\n    <tr>\n      <th>0</th>\n      <td>500191</td>\n      <td>1.531818</td>\n    </tr>\n    <tr>\n      <th>18</th>\n      <td>526137</td>\n      <td>1.340230</td>\n    </tr>\n    <tr>\n      <th>17</th>\n      <td>526137 (1)</td>\n      <td>1.340230</td>\n    </tr>\n    <tr>\n      <th>31</th>\n      <td>532812</td>\n      <td>1.190813</td>\n    </tr>\n  </tbody>\n</table>\n</div>"
     },
     "metadata": {},
     "execution_count": 4
    }
   ],
   "source": [
    "df = df.sort_values(\"Gain\", ascending=False)\n",
    "df.head(10)"
   ]
  }
 ]
}