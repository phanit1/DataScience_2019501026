{
 "cells": [
  {
   "cell_type": "code",
   "execution_count": 1,
   "metadata": {},
   "outputs": [],
   "source": [
    "import numpy as np\n",
    "import pandas as pd\n",
    "import seaborn as sns; sns.set()\n",
    "import random"
   ]
  },
  {
   "cell_type": "code",
   "execution_count": 2,
   "metadata": {},
   "outputs": [],
   "source": [
    "icici = pd.read_csv(\"ICICI.csv\")[\"Close Price\"].reset_index()"
   ]
  },
  {
   "cell_type": "code",
   "execution_count": 3,
   "metadata": {},
   "outputs": [
    {
     "output_type": "execute_result",
     "data": {
      "text/plain": [
       "   index  Close Price\n",
       "0      0       546.70\n",
       "1      1       537.05\n",
       "2      2       531.65\n",
       "3      3       527.55\n",
       "4      4       534.80\n",
       "5      5       528.45\n",
       "6      6       528.95\n",
       "7      7       520.20\n",
       "8      8       513.65\n",
       "9      9       503.60"
      ],
      "text/html": "<div>\n<style scoped>\n    .dataframe tbody tr th:only-of-type {\n        vertical-align: middle;\n    }\n\n    .dataframe tbody tr th {\n        vertical-align: top;\n    }\n\n    .dataframe thead th {\n        text-align: right;\n    }\n</style>\n<table border=\"1\" class=\"dataframe\">\n  <thead>\n    <tr style=\"text-align: right;\">\n      <th></th>\n      <th>index</th>\n      <th>Close Price</th>\n    </tr>\n  </thead>\n  <tbody>\n    <tr>\n      <th>0</th>\n      <td>0</td>\n      <td>546.70</td>\n    </tr>\n    <tr>\n      <th>1</th>\n      <td>1</td>\n      <td>537.05</td>\n    </tr>\n    <tr>\n      <th>2</th>\n      <td>2</td>\n      <td>531.65</td>\n    </tr>\n    <tr>\n      <th>3</th>\n      <td>3</td>\n      <td>527.55</td>\n    </tr>\n    <tr>\n      <th>4</th>\n      <td>4</td>\n      <td>534.80</td>\n    </tr>\n    <tr>\n      <th>5</th>\n      <td>5</td>\n      <td>528.45</td>\n    </tr>\n    <tr>\n      <th>6</th>\n      <td>6</td>\n      <td>528.95</td>\n    </tr>\n    <tr>\n      <th>7</th>\n      <td>7</td>\n      <td>520.20</td>\n    </tr>\n    <tr>\n      <th>8</th>\n      <td>8</td>\n      <td>513.65</td>\n    </tr>\n    <tr>\n      <th>9</th>\n      <td>9</td>\n      <td>503.60</td>\n    </tr>\n  </tbody>\n</table>\n</div>"
     },
     "metadata": {},
     "execution_count": 3
    }
   ],
   "source": [
    "icici.head(10)"
   ]
  },
  {
   "cell_type": "code",
   "execution_count": 4,
   "metadata": {},
   "outputs": [
    {
     "output_type": "execute_result",
     "data": {
      "text/plain": [
       "   Security Code  Issuer Name Security Id  \\\n",
       "0         500002          NaN         ABB   \n",
       "1         500003          NaN    AEGISLOG   \n",
       "2         500008          NaN  AMARAJABAT   \n",
       "3         500009          NaN   AMBALALSA   \n",
       "4         500010          NaN        HDFC   \n",
       "5         500012          NaN   ANDHRAPET   \n",
       "6         500013          NaN    ANSALAPI   \n",
       "7         500014          NaN      UTIQUE   \n",
       "8         500016          NaN   ARUNAHTEL   \n",
       "9         500020          NaN   BOMDYEING   \n",
       "\n",
       "                            Security Name  Status Group  Face Value  \\\n",
       "0                       ABB India Limited  Active    A          2.0   \n",
       "1                    AEGIS LOGISTICS LTD.  Active    A          1.0   \n",
       "2               AMARA RAJA BATTERIES LTD.  Active    A          1.0   \n",
       "3       AMBALAL SARABHAI ENTERPRISES LTD.  Active    X         10.0   \n",
       "4   HOUSING DEVELOPMENT FINANCE CORP.LTD.  Active    A          2.0   \n",
       "5              ANDHRA PETROCHEMICALS LTD.  Active    X         10.0   \n",
       "6  ANSAL PROPERTIES & INFRASTRUCTURE LTD.  Active    T          5.0   \n",
       "7                  Utique Enterprises Ltd  Active    X         10.0   \n",
       "8                       ARUNA HOTELS LTD.  Active    XT        10.0   \n",
       "9             BOMBAY DYEING & MFG.CO.LTD.  Active    A          2.0   \n",
       "\n",
       "        ISIN No                      Industry Instrument  \n",
       "0  INE117A01022    Heavy Electrical Equipment     Equity  \n",
       "1  INE208C01025  Oil Marketing & Distribution     Equity  \n",
       "2  INE885A01032        Auto Parts & Equipment     Equity  \n",
       "3  INE432A01017               Pharmaceuticals     Equity  \n",
       "4  INE001A01036              Housing Finance      Equity  \n",
       "5  INE714B01016           Commodity Chemicals     Equity  \n",
       "6  INE436A01026                        Realty     Equity  \n",
       "7  INE096A01010     Finance (including NBFCs)     Equity  \n",
       "8  INE957C01019                        Hotels     Equity  \n",
       "9  INE032A01023                      Textiles     Equity  "
      ],
      "text/html": "<div>\n<style scoped>\n    .dataframe tbody tr th:only-of-type {\n        vertical-align: middle;\n    }\n\n    .dataframe tbody tr th {\n        vertical-align: top;\n    }\n\n    .dataframe thead th {\n        text-align: right;\n    }\n</style>\n<table border=\"1\" class=\"dataframe\">\n  <thead>\n    <tr style=\"text-align: right;\">\n      <th></th>\n      <th>Security Code</th>\n      <th>Issuer Name</th>\n      <th>Security Id</th>\n      <th>Security Name</th>\n      <th>Status</th>\n      <th>Group</th>\n      <th>Face Value</th>\n      <th>ISIN No</th>\n      <th>Industry</th>\n      <th>Instrument</th>\n    </tr>\n  </thead>\n  <tbody>\n    <tr>\n      <th>0</th>\n      <td>500002</td>\n      <td>NaN</td>\n      <td>ABB</td>\n      <td>ABB India Limited</td>\n      <td>Active</td>\n      <td>A</td>\n      <td>2.0</td>\n      <td>INE117A01022</td>\n      <td>Heavy Electrical Equipment</td>\n      <td>Equity</td>\n    </tr>\n    <tr>\n      <th>1</th>\n      <td>500003</td>\n      <td>NaN</td>\n      <td>AEGISLOG</td>\n      <td>AEGIS LOGISTICS LTD.</td>\n      <td>Active</td>\n      <td>A</td>\n      <td>1.0</td>\n      <td>INE208C01025</td>\n      <td>Oil Marketing &amp; Distribution</td>\n      <td>Equity</td>\n    </tr>\n    <tr>\n      <th>2</th>\n      <td>500008</td>\n      <td>NaN</td>\n      <td>AMARAJABAT</td>\n      <td>AMARA RAJA BATTERIES LTD.</td>\n      <td>Active</td>\n      <td>A</td>\n      <td>1.0</td>\n      <td>INE885A01032</td>\n      <td>Auto Parts &amp; Equipment</td>\n      <td>Equity</td>\n    </tr>\n    <tr>\n      <th>3</th>\n      <td>500009</td>\n      <td>NaN</td>\n      <td>AMBALALSA</td>\n      <td>AMBALAL SARABHAI ENTERPRISES LTD.</td>\n      <td>Active</td>\n      <td>X</td>\n      <td>10.0</td>\n      <td>INE432A01017</td>\n      <td>Pharmaceuticals</td>\n      <td>Equity</td>\n    </tr>\n    <tr>\n      <th>4</th>\n      <td>500010</td>\n      <td>NaN</td>\n      <td>HDFC</td>\n      <td>HOUSING DEVELOPMENT FINANCE CORP.LTD.</td>\n      <td>Active</td>\n      <td>A</td>\n      <td>2.0</td>\n      <td>INE001A01036</td>\n      <td>Housing Finance</td>\n      <td>Equity</td>\n    </tr>\n    <tr>\n      <th>5</th>\n      <td>500012</td>\n      <td>NaN</td>\n      <td>ANDHRAPET</td>\n      <td>ANDHRA PETROCHEMICALS LTD.</td>\n      <td>Active</td>\n      <td>X</td>\n      <td>10.0</td>\n      <td>INE714B01016</td>\n      <td>Commodity Chemicals</td>\n      <td>Equity</td>\n    </tr>\n    <tr>\n      <th>6</th>\n      <td>500013</td>\n      <td>NaN</td>\n      <td>ANSALAPI</td>\n      <td>ANSAL PROPERTIES &amp; INFRASTRUCTURE LTD.</td>\n      <td>Active</td>\n      <td>T</td>\n      <td>5.0</td>\n      <td>INE436A01026</td>\n      <td>Realty</td>\n      <td>Equity</td>\n    </tr>\n    <tr>\n      <th>7</th>\n      <td>500014</td>\n      <td>NaN</td>\n      <td>UTIQUE</td>\n      <td>Utique Enterprises Ltd</td>\n      <td>Active</td>\n      <td>X</td>\n      <td>10.0</td>\n      <td>INE096A01010</td>\n      <td>Finance (including NBFCs)</td>\n      <td>Equity</td>\n    </tr>\n    <tr>\n      <th>8</th>\n      <td>500016</td>\n      <td>NaN</td>\n      <td>ARUNAHTEL</td>\n      <td>ARUNA HOTELS LTD.</td>\n      <td>Active</td>\n      <td>XT</td>\n      <td>10.0</td>\n      <td>INE957C01019</td>\n      <td>Hotels</td>\n      <td>Equity</td>\n    </tr>\n    <tr>\n      <th>9</th>\n      <td>500020</td>\n      <td>NaN</td>\n      <td>BOMDYEING</td>\n      <td>BOMBAY DYEING &amp; MFG.CO.LTD.</td>\n      <td>Active</td>\n      <td>A</td>\n      <td>2.0</td>\n      <td>INE032A01023</td>\n      <td>Textiles</td>\n      <td>Equity</td>\n    </tr>\n  </tbody>\n</table>\n</div>"
     },
     "metadata": {},
     "execution_count": 4
    }
   ],
   "source": [
    "equity = pd.read_csv(\"Equity.csv\")\n",
    "equity.head(10)"
   ]
  },
  {
   "cell_type": "code",
   "execution_count": 5,
   "metadata": {},
   "outputs": [
    {
     "output_type": "execute_result",
     "data": {
      "text/plain": [
       "      Security Code  Issuer Name Security Id  \\\n",
       "527          506194          NaN         ASL   \n",
       "2198         531640          NaN        SICL   \n",
       "2582         532713          NaN      SAKUMA   \n",
       "2106         531360          NaN     GOLECHA   \n",
       "1300         521080          NaN      PASARI   \n",
       "1208         519003          NaN   MODINATUR   \n",
       "2557         532674          NaN       BASML   \n",
       "120          500234          NaN    KAKATCEM   \n",
       "2149         531500          NaN  RAJESHEXPO   \n",
       "1297         521064          NaN     TRIDENT   \n",
       "\n",
       "                                Security Name  Status Group  Face Value  \\\n",
       "527           Arihant Superstructures Limited  Active    B         10.0   \n",
       "2198  Suvidha Infraestate Corporation Limited  Active    P         10.0   \n",
       "2582                      SAKUMA EXPORTS LTD.  Active    B          1.0   \n",
       "2106             GOLECHHA GLOBAL FINANCE LTD.  Active    X         10.0   \n",
       "1300               PASARI SPINNING MILLS LTD.  Active    XT        10.0   \n",
       "1208                    Modi Naturals Limited  Active    X         10.0   \n",
       "2557        BANNARI AMMAN SPINNING MILLS LTD.  Active    T         10.0   \n",
       "120   KAKATIYA CEMENT SUGAR & INDUSTRIES LTD.  Active    B         10.0   \n",
       "2149                      RAJESH EXPORTS LTD.  Active    A          1.0   \n",
       "1297                             TRIDENT LTD.  Active    A          1.0   \n",
       "\n",
       "           ISIN No                         Industry Instrument  \n",
       "527   INE643K01018                           Realty     Equity  \n",
       "2198  INE936N01010                           Realty     Equity  \n",
       "2582  INE190H01024     Comm.Trading  & Distribution     Equity  \n",
       "2106  INE427D01011  Diversified Commercial Services     Equity  \n",
       "1300  INE604F01010                         Textiles     Equity  \n",
       "1208  INE537F01012      Other Agricultural Products     Equity  \n",
       "2557  INE186H01014                         Textiles     Equity  \n",
       "120   INE437B01014         Cement & Cement Products     Equity  \n",
       "2149  INE343B01030     Other Apparels & Accessories     Equity  \n",
       "1297  INE064C01022                         Textiles     Equity  "
      ],
      "text/html": "<div>\n<style scoped>\n    .dataframe tbody tr th:only-of-type {\n        vertical-align: middle;\n    }\n\n    .dataframe tbody tr th {\n        vertical-align: top;\n    }\n\n    .dataframe thead th {\n        text-align: right;\n    }\n</style>\n<table border=\"1\" class=\"dataframe\">\n  <thead>\n    <tr style=\"text-align: right;\">\n      <th></th>\n      <th>Security Code</th>\n      <th>Issuer Name</th>\n      <th>Security Id</th>\n      <th>Security Name</th>\n      <th>Status</th>\n      <th>Group</th>\n      <th>Face Value</th>\n      <th>ISIN No</th>\n      <th>Industry</th>\n      <th>Instrument</th>\n    </tr>\n  </thead>\n  <tbody>\n    <tr>\n      <th>527</th>\n      <td>506194</td>\n      <td>NaN</td>\n      <td>ASL</td>\n      <td>Arihant Superstructures Limited</td>\n      <td>Active</td>\n      <td>B</td>\n      <td>10.0</td>\n      <td>INE643K01018</td>\n      <td>Realty</td>\n      <td>Equity</td>\n    </tr>\n    <tr>\n      <th>2198</th>\n      <td>531640</td>\n      <td>NaN</td>\n      <td>SICL</td>\n      <td>Suvidha Infraestate Corporation Limited</td>\n      <td>Active</td>\n      <td>P</td>\n      <td>10.0</td>\n      <td>INE936N01010</td>\n      <td>Realty</td>\n      <td>Equity</td>\n    </tr>\n    <tr>\n      <th>2582</th>\n      <td>532713</td>\n      <td>NaN</td>\n      <td>SAKUMA</td>\n      <td>SAKUMA EXPORTS LTD.</td>\n      <td>Active</td>\n      <td>B</td>\n      <td>1.0</td>\n      <td>INE190H01024</td>\n      <td>Comm.Trading  &amp; Distribution</td>\n      <td>Equity</td>\n    </tr>\n    <tr>\n      <th>2106</th>\n      <td>531360</td>\n      <td>NaN</td>\n      <td>GOLECHA</td>\n      <td>GOLECHHA GLOBAL FINANCE LTD.</td>\n      <td>Active</td>\n      <td>X</td>\n      <td>10.0</td>\n      <td>INE427D01011</td>\n      <td>Diversified Commercial Services</td>\n      <td>Equity</td>\n    </tr>\n    <tr>\n      <th>1300</th>\n      <td>521080</td>\n      <td>NaN</td>\n      <td>PASARI</td>\n      <td>PASARI SPINNING MILLS LTD.</td>\n      <td>Active</td>\n      <td>XT</td>\n      <td>10.0</td>\n      <td>INE604F01010</td>\n      <td>Textiles</td>\n      <td>Equity</td>\n    </tr>\n    <tr>\n      <th>1208</th>\n      <td>519003</td>\n      <td>NaN</td>\n      <td>MODINATUR</td>\n      <td>Modi Naturals Limited</td>\n      <td>Active</td>\n      <td>X</td>\n      <td>10.0</td>\n      <td>INE537F01012</td>\n      <td>Other Agricultural Products</td>\n      <td>Equity</td>\n    </tr>\n    <tr>\n      <th>2557</th>\n      <td>532674</td>\n      <td>NaN</td>\n      <td>BASML</td>\n      <td>BANNARI AMMAN SPINNING MILLS LTD.</td>\n      <td>Active</td>\n      <td>T</td>\n      <td>10.0</td>\n      <td>INE186H01014</td>\n      <td>Textiles</td>\n      <td>Equity</td>\n    </tr>\n    <tr>\n      <th>120</th>\n      <td>500234</td>\n      <td>NaN</td>\n      <td>KAKATCEM</td>\n      <td>KAKATIYA CEMENT SUGAR &amp; INDUSTRIES LTD.</td>\n      <td>Active</td>\n      <td>B</td>\n      <td>10.0</td>\n      <td>INE437B01014</td>\n      <td>Cement &amp; Cement Products</td>\n      <td>Equity</td>\n    </tr>\n    <tr>\n      <th>2149</th>\n      <td>531500</td>\n      <td>NaN</td>\n      <td>RAJESHEXPO</td>\n      <td>RAJESH EXPORTS LTD.</td>\n      <td>Active</td>\n      <td>A</td>\n      <td>1.0</td>\n      <td>INE343B01030</td>\n      <td>Other Apparels &amp; Accessories</td>\n      <td>Equity</td>\n    </tr>\n    <tr>\n      <th>1297</th>\n      <td>521064</td>\n      <td>NaN</td>\n      <td>TRIDENT</td>\n      <td>TRIDENT LTD.</td>\n      <td>Active</td>\n      <td>A</td>\n      <td>1.0</td>\n      <td>INE064C01022</td>\n      <td>Textiles</td>\n      <td>Equity</td>\n    </tr>\n  </tbody>\n</table>\n</div>"
     },
     "metadata": {},
     "execution_count": 5
    }
   ],
   "source": [
    "sample_data  = equity.sample(10)\n",
    "sample_data"
   ]
  },
  {
   "cell_type": "code",
   "execution_count": 6,
   "metadata": {},
   "outputs": [
    {
     "output_type": "stream",
     "name": "stdout",
     "text": [
      "[506194, 531640, 532713, 531360, 521080, 519003, 532674, 500234, 531500, 521064]\n"
     ]
    }
   ],
   "source": [
    "Security_code = list(sample_data[\"Security Code\"])\n",
    "Security_Id = list(sample_data[\"Security Id\"])\n",
    "Security_Name = list(sample_data[\"Security Name\"])\n",
    "print(Security_code)"
   ]
  },
  {
   "cell_type": "code",
   "execution_count": 7,
   "metadata": {},
   "outputs": [
    {
     "output_type": "stream",
     "name": "stdout",
     "text": [
      "506194\n",
      "531640\n",
      "532713\n",
      "531360\n",
      "521080\n",
      "519003\n",
      "532674\n",
      "500234\n",
      "531500\n",
      "521064\n"
     ]
    }
   ],
   "source": [
    "import time, csv\n",
    "from selenium import webdriver\n",
    "from selenium.webdriver.support.ui import Select\n",
    "import datetime\n",
    "import random\n",
    "from selenium.webdriver.common.keys import Keys\n",
    "\n",
    "chromeOptions = webdriver.ChromeOptions()\n",
    "preferences = {\"download.default_directory\" : \"C:\\\\Users\\\\personal\\\\Desktop\\\\MSIT\\\\IT\\\\DataScience_2019501026\\\\Data Analytics and Data Visualisation\\\\Assignments\\\\Analysis\\\\Asst3_Data\"}\n",
    "chromeOptions.add_experimental_option(\"prefs\", preferences)\n",
    "chromedriver = \"C:\\\\Users\\\\personal\\Downloads\\\\chromedriver.exe\"\n",
    "driver = webdriver.Chrome(executable_path=chromedriver, options=chromeOptions)\n",
    "driver.maximize_window()\n",
    "\n",
    "driver.get(\"https://www.bseindia.com/markets/equity/EQReports/StockPrcHistori.aspx?flag=0\")\n",
    "\n",
    "#date\n",
    "driver.find_element_by_id(\"ContentPlaceHolder1_txtToDate\").click()\n",
    "time.sleep(3)\n",
    "x = datetime.datetime.now()\n",
    "date = str(int(x.strftime(\"%d\")))\n",
    "year = x.strftime(\"%Y\")\n",
    "driver.find_element_by_link_text(date).click()\n",
    "time.sleep(2)\n",
    "driver.find_element_by_id(\"ContentPlaceHolder1_txtFromDate\").click()\n",
    "select = Select(driver.find_element_by_class_name(\"ui-datepicker-year\"))\n",
    "pyear = str(int(year)-5)\n",
    "select.select_by_visible_text(pyear)\n",
    "driver.find_element_by_link_text(date).click()\n",
    "time.sleep(2)\n",
    "\n",
    "for i in Security_code:\n",
    "    random_code = i\n",
    "    print(random_code)\n",
    "    #company id\n",
    "    search = driver.find_element_by_id('ContentPlaceHolder1_smartSearch')\n",
    "    search.clear()\n",
    "    search.send_keys(random_code)\n",
    "    driver.find_element_by_class_name(\"quotemenu\").click()\n",
    "    #download\n",
    "    driver.find_element_by_id(\"ContentPlaceHolder1_btnSubmit\").click()\n",
    "    time.sleep(3)\n",
    "    driver.find_element_by_id(\"ContentPlaceHolder1_btnDownload\").click()\n",
    "    time.sleep(10)\n",
    "\n",
    "driver.close()"
   ]
  },
  {
   "cell_type": "code",
   "execution_count": 8,
   "metadata": {},
   "outputs": [],
   "source": [
    "data = pd.DataFrame()\n",
    "new_data = pd.DataFrame()\n",
    "for i in range(9):\n",
    "    link = \"C:\\\\Users\\\\personal\\\\Desktop\\\\MSIT\\\\IT\\\\DataScience_2019501026\\\\Data Analytics and Data Visualisation\\\\Assignments\\\\Analysis\\\\Asst3_Data\\\\\"+str(Security_code[i])+\".csv\"\n",
    "    x = pd.read_csv(link)[\"Close Price\"].reset_index()\n",
    "    data = pd.merge(x, icici, on='index').iloc[:,[1,2]]\n",
    "    row = {'Name': Security_Name[i], 'Corr':data.corr()['Close Price_x'][1]}\n",
    "    new_data = new_data.append(row, ignore_index=True)"
   ]
  },
  {
   "cell_type": "code",
   "execution_count": 9,
   "metadata": {},
   "outputs": [
    {
     "output_type": "execute_result",
     "data": {
      "text/plain": [
       "       Corr                                     Name\n",
       "0 -0.558537          Arihant Superstructures Limited\n",
       "1 -0.876970  Suvidha Infraestate Corporation Limited\n",
       "2 -0.495965                      SAKUMA EXPORTS LTD.\n",
       "3 -0.445936             GOLECHHA GLOBAL FINANCE LTD.\n",
       "4  0.727489               PASARI SPINNING MILLS LTD.\n",
       "5 -0.722180                    Modi Naturals Limited\n",
       "6 -0.630230        BANNARI AMMAN SPINNING MILLS LTD.\n",
       "7 -0.547850  KAKATIYA CEMENT SUGAR & INDUSTRIES LTD.\n",
       "8  0.121395                      RAJESH EXPORTS LTD."
      ],
      "text/html": "<div>\n<style scoped>\n    .dataframe tbody tr th:only-of-type {\n        vertical-align: middle;\n    }\n\n    .dataframe tbody tr th {\n        vertical-align: top;\n    }\n\n    .dataframe thead th {\n        text-align: right;\n    }\n</style>\n<table border=\"1\" class=\"dataframe\">\n  <thead>\n    <tr style=\"text-align: right;\">\n      <th></th>\n      <th>Corr</th>\n      <th>Name</th>\n    </tr>\n  </thead>\n  <tbody>\n    <tr>\n      <th>0</th>\n      <td>-0.558537</td>\n      <td>Arihant Superstructures Limited</td>\n    </tr>\n    <tr>\n      <th>1</th>\n      <td>-0.876970</td>\n      <td>Suvidha Infraestate Corporation Limited</td>\n    </tr>\n    <tr>\n      <th>2</th>\n      <td>-0.495965</td>\n      <td>SAKUMA EXPORTS LTD.</td>\n    </tr>\n    <tr>\n      <th>3</th>\n      <td>-0.445936</td>\n      <td>GOLECHHA GLOBAL FINANCE LTD.</td>\n    </tr>\n    <tr>\n      <th>4</th>\n      <td>0.727489</td>\n      <td>PASARI SPINNING MILLS LTD.</td>\n    </tr>\n    <tr>\n      <th>5</th>\n      <td>-0.722180</td>\n      <td>Modi Naturals Limited</td>\n    </tr>\n    <tr>\n      <th>6</th>\n      <td>-0.630230</td>\n      <td>BANNARI AMMAN SPINNING MILLS LTD.</td>\n    </tr>\n    <tr>\n      <th>7</th>\n      <td>-0.547850</td>\n      <td>KAKATIYA CEMENT SUGAR &amp; INDUSTRIES LTD.</td>\n    </tr>\n    <tr>\n      <th>8</th>\n      <td>0.121395</td>\n      <td>RAJESH EXPORTS LTD.</td>\n    </tr>\n  </tbody>\n</table>\n</div>"
     },
     "metadata": {},
     "execution_count": 9
    }
   ],
   "source": [
    "new_data"
   ]
  },
  {
   "cell_type": "code",
   "execution_count": 10,
   "metadata": {},
   "outputs": [
    {
     "output_type": "execute_result",
     "data": {
      "text/plain": [
       "'Arihant Superstructures Limited has the highest correlation with ICICI Bank with a correlation of -0.5585365880087372'"
      ]
     },
     "metadata": {},
     "execution_count": 10
    }
   ],
   "source": [
    "new_data.sort_values(\"Corr\", axis = 0, ascending = False, inplace = True, na_position ='last')\n",
    "str(new_data['Name'][0])+ \" has the highest correlation with ICICI Bank with a correlation of \" +str(new_data['Corr'][0])"
   ]
  },
  {
   "cell_type": "code",
   "execution_count": null,
   "metadata": {},
   "outputs": [],
   "source": []
  }
 ],
 "metadata": {
  "kernelspec": {
   "name": "python3",
   "display_name": "Python 3.7.4 32-bit",
   "metadata": {
    "interpreter": {
     "hash": "d94ced1cfaa7a577b1a92978a713d67829e9d58ef52aaace7ec784d3a2026c54"
    }
   }
  },
  "language_info": {
   "codemirror_mode": {
    "name": "ipython",
    "version": 3
   },
   "file_extension": ".py",
   "mimetype": "text/x-python",
   "name": "python",
   "nbconvert_exporter": "python",
   "pygments_lexer": "ipython3",
   "version": "3.7.4-final"
  }
 },
 "nbformat": 4,
 "nbformat_minor": 2
}