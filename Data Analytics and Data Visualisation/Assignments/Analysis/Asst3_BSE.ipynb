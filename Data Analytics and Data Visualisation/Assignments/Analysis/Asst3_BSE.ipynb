{
 "cells": [
  {
   "cell_type": "code",
   "execution_count": 22,
   "metadata": {},
   "outputs": [],
   "source": [
    "import numpy as np\n",
    "import pandas as pd\n",
    "import seaborn as sns; sns.set()\n",
    "import random"
   ]
  },
  {
   "cell_type": "code",
   "execution_count": 23,
   "metadata": {},
   "outputs": [],
   "source": [
    "icici = pd.read_csv(\"ICICI.csv\")[\"Close Price\"].reset_index()"
   ]
  },
  {
   "cell_type": "code",
   "execution_count": 24,
   "metadata": {},
   "outputs": [
    {
     "output_type": "execute_result",
     "data": {
      "text/plain": [
       "   index  Close Price\n",
       "0      0       546.70\n",
       "1      1       537.05\n",
       "2      2       531.65\n",
       "3      3       527.55\n",
       "4      4       534.80\n",
       "5      5       528.45\n",
       "6      6       528.95\n",
       "7      7       520.20\n",
       "8      8       513.65\n",
       "9      9       503.60"
      ],
      "text/html": "<div>\n<style scoped>\n    .dataframe tbody tr th:only-of-type {\n        vertical-align: middle;\n    }\n\n    .dataframe tbody tr th {\n        vertical-align: top;\n    }\n\n    .dataframe thead th {\n        text-align: right;\n    }\n</style>\n<table border=\"1\" class=\"dataframe\">\n  <thead>\n    <tr style=\"text-align: right;\">\n      <th></th>\n      <th>index</th>\n      <th>Close Price</th>\n    </tr>\n  </thead>\n  <tbody>\n    <tr>\n      <th>0</th>\n      <td>0</td>\n      <td>546.70</td>\n    </tr>\n    <tr>\n      <th>1</th>\n      <td>1</td>\n      <td>537.05</td>\n    </tr>\n    <tr>\n      <th>2</th>\n      <td>2</td>\n      <td>531.65</td>\n    </tr>\n    <tr>\n      <th>3</th>\n      <td>3</td>\n      <td>527.55</td>\n    </tr>\n    <tr>\n      <th>4</th>\n      <td>4</td>\n      <td>534.80</td>\n    </tr>\n    <tr>\n      <th>5</th>\n      <td>5</td>\n      <td>528.45</td>\n    </tr>\n    <tr>\n      <th>6</th>\n      <td>6</td>\n      <td>528.95</td>\n    </tr>\n    <tr>\n      <th>7</th>\n      <td>7</td>\n      <td>520.20</td>\n    </tr>\n    <tr>\n      <th>8</th>\n      <td>8</td>\n      <td>513.65</td>\n    </tr>\n    <tr>\n      <th>9</th>\n      <td>9</td>\n      <td>503.60</td>\n    </tr>\n  </tbody>\n</table>\n</div>"
     },
     "metadata": {},
     "execution_count": 24
    }
   ],
   "source": [
    "icici.head(10)"
   ]
  },
  {
   "cell_type": "code",
   "execution_count": 25,
   "metadata": {},
   "outputs": [
    {
     "output_type": "execute_result",
     "data": {
      "text/plain": [
       "   Security Code  Issuer Name Security Id  \\\n",
       "0         500002          NaN         ABB   \n",
       "1         500003          NaN    AEGISLOG   \n",
       "2         500008          NaN  AMARAJABAT   \n",
       "3         500009          NaN   AMBALALSA   \n",
       "4         500010          NaN        HDFC   \n",
       "5         500012          NaN   ANDHRAPET   \n",
       "6         500013          NaN    ANSALAPI   \n",
       "7         500014          NaN      UTIQUE   \n",
       "8         500016          NaN   ARUNAHTEL   \n",
       "9         500020          NaN   BOMDYEING   \n",
       "\n",
       "                            Security Name  Status Group  Face Value  \\\n",
       "0                       ABB India Limited  Active    A          2.0   \n",
       "1                    AEGIS LOGISTICS LTD.  Active    A          1.0   \n",
       "2               AMARA RAJA BATTERIES LTD.  Active    A          1.0   \n",
       "3       AMBALAL SARABHAI ENTERPRISES LTD.  Active    X         10.0   \n",
       "4   HOUSING DEVELOPMENT FINANCE CORP.LTD.  Active    A          2.0   \n",
       "5              ANDHRA PETROCHEMICALS LTD.  Active    X         10.0   \n",
       "6  ANSAL PROPERTIES & INFRASTRUCTURE LTD.  Active    T          5.0   \n",
       "7                  Utique Enterprises Ltd  Active    X         10.0   \n",
       "8                       ARUNA HOTELS LTD.  Active    XT        10.0   \n",
       "9             BOMBAY DYEING & MFG.CO.LTD.  Active    A          2.0   \n",
       "\n",
       "        ISIN No                      Industry Instrument  \n",
       "0  INE117A01022    Heavy Electrical Equipment     Equity  \n",
       "1  INE208C01025  Oil Marketing & Distribution     Equity  \n",
       "2  INE885A01032        Auto Parts & Equipment     Equity  \n",
       "3  INE432A01017               Pharmaceuticals     Equity  \n",
       "4  INE001A01036              Housing Finance      Equity  \n",
       "5  INE714B01016           Commodity Chemicals     Equity  \n",
       "6  INE436A01026                        Realty     Equity  \n",
       "7  INE096A01010     Finance (including NBFCs)     Equity  \n",
       "8  INE957C01019                        Hotels     Equity  \n",
       "9  INE032A01023                      Textiles     Equity  "
      ],
      "text/html": "<div>\n<style scoped>\n    .dataframe tbody tr th:only-of-type {\n        vertical-align: middle;\n    }\n\n    .dataframe tbody tr th {\n        vertical-align: top;\n    }\n\n    .dataframe thead th {\n        text-align: right;\n    }\n</style>\n<table border=\"1\" class=\"dataframe\">\n  <thead>\n    <tr style=\"text-align: right;\">\n      <th></th>\n      <th>Security Code</th>\n      <th>Issuer Name</th>\n      <th>Security Id</th>\n      <th>Security Name</th>\n      <th>Status</th>\n      <th>Group</th>\n      <th>Face Value</th>\n      <th>ISIN No</th>\n      <th>Industry</th>\n      <th>Instrument</th>\n    </tr>\n  </thead>\n  <tbody>\n    <tr>\n      <th>0</th>\n      <td>500002</td>\n      <td>NaN</td>\n      <td>ABB</td>\n      <td>ABB India Limited</td>\n      <td>Active</td>\n      <td>A</td>\n      <td>2.0</td>\n      <td>INE117A01022</td>\n      <td>Heavy Electrical Equipment</td>\n      <td>Equity</td>\n    </tr>\n    <tr>\n      <th>1</th>\n      <td>500003</td>\n      <td>NaN</td>\n      <td>AEGISLOG</td>\n      <td>AEGIS LOGISTICS LTD.</td>\n      <td>Active</td>\n      <td>A</td>\n      <td>1.0</td>\n      <td>INE208C01025</td>\n      <td>Oil Marketing &amp; Distribution</td>\n      <td>Equity</td>\n    </tr>\n    <tr>\n      <th>2</th>\n      <td>500008</td>\n      <td>NaN</td>\n      <td>AMARAJABAT</td>\n      <td>AMARA RAJA BATTERIES LTD.</td>\n      <td>Active</td>\n      <td>A</td>\n      <td>1.0</td>\n      <td>INE885A01032</td>\n      <td>Auto Parts &amp; Equipment</td>\n      <td>Equity</td>\n    </tr>\n    <tr>\n      <th>3</th>\n      <td>500009</td>\n      <td>NaN</td>\n      <td>AMBALALSA</td>\n      <td>AMBALAL SARABHAI ENTERPRISES LTD.</td>\n      <td>Active</td>\n      <td>X</td>\n      <td>10.0</td>\n      <td>INE432A01017</td>\n      <td>Pharmaceuticals</td>\n      <td>Equity</td>\n    </tr>\n    <tr>\n      <th>4</th>\n      <td>500010</td>\n      <td>NaN</td>\n      <td>HDFC</td>\n      <td>HOUSING DEVELOPMENT FINANCE CORP.LTD.</td>\n      <td>Active</td>\n      <td>A</td>\n      <td>2.0</td>\n      <td>INE001A01036</td>\n      <td>Housing Finance</td>\n      <td>Equity</td>\n    </tr>\n    <tr>\n      <th>5</th>\n      <td>500012</td>\n      <td>NaN</td>\n      <td>ANDHRAPET</td>\n      <td>ANDHRA PETROCHEMICALS LTD.</td>\n      <td>Active</td>\n      <td>X</td>\n      <td>10.0</td>\n      <td>INE714B01016</td>\n      <td>Commodity Chemicals</td>\n      <td>Equity</td>\n    </tr>\n    <tr>\n      <th>6</th>\n      <td>500013</td>\n      <td>NaN</td>\n      <td>ANSALAPI</td>\n      <td>ANSAL PROPERTIES &amp; INFRASTRUCTURE LTD.</td>\n      <td>Active</td>\n      <td>T</td>\n      <td>5.0</td>\n      <td>INE436A01026</td>\n      <td>Realty</td>\n      <td>Equity</td>\n    </tr>\n    <tr>\n      <th>7</th>\n      <td>500014</td>\n      <td>NaN</td>\n      <td>UTIQUE</td>\n      <td>Utique Enterprises Ltd</td>\n      <td>Active</td>\n      <td>X</td>\n      <td>10.0</td>\n      <td>INE096A01010</td>\n      <td>Finance (including NBFCs)</td>\n      <td>Equity</td>\n    </tr>\n    <tr>\n      <th>8</th>\n      <td>500016</td>\n      <td>NaN</td>\n      <td>ARUNAHTEL</td>\n      <td>ARUNA HOTELS LTD.</td>\n      <td>Active</td>\n      <td>XT</td>\n      <td>10.0</td>\n      <td>INE957C01019</td>\n      <td>Hotels</td>\n      <td>Equity</td>\n    </tr>\n    <tr>\n      <th>9</th>\n      <td>500020</td>\n      <td>NaN</td>\n      <td>BOMDYEING</td>\n      <td>BOMBAY DYEING &amp; MFG.CO.LTD.</td>\n      <td>Active</td>\n      <td>A</td>\n      <td>2.0</td>\n      <td>INE032A01023</td>\n      <td>Textiles</td>\n      <td>Equity</td>\n    </tr>\n  </tbody>\n</table>\n</div>"
     },
     "metadata": {},
     "execution_count": 25
    }
   ],
   "source": [
    "equity = pd.read_csv(\"Equity.csv\")\n",
    "equity.head(10)"
   ]
  },
  {
   "cell_type": "code",
   "execution_count": 26,
   "metadata": {},
   "outputs": [
    {
     "output_type": "execute_result",
     "data": {
      "text/plain": [
       "      Security Code  Issuer Name Security Id  \\\n",
       "1883         530525          NaN     SHEETAL   \n",
       "2258         531867          NaN     UNITINT   \n",
       "3227         539132          NaN   VEGETABLE   \n",
       "1398         523160          NaN   MORGANITE   \n",
       "729          509874          NaN  SHALPAINTS   \n",
       "1909         530665          NaN    ZENITHHE   \n",
       "2219         531717          NaN    VIDHIING   \n",
       "1657         526433          NaN      ASMTEC   \n",
       "1260         519566          NaN      SIMRAN   \n",
       "673          508980          NaN    FRONTCAP   \n",
       "\n",
       "                               Security Name  Status Group  Face Value  \\\n",
       "1883                   SHEETAL DIAMONDS LTD.  Active    XT        10.0   \n",
       "2258              UNITECH INTERNATIONAL LTD.  Active    X         10.0   \n",
       "3227                  Vegetable Products Ltd  Active    X          1.0   \n",
       "1398         MORGANITE CRUCIBLE (INDIA) LTD.  Active    X          5.0   \n",
       "729                   SHALIMAR PAINTS LTD.-$  Active    B          2.0   \n",
       "1909                 ZENITH HEALTH CARE LTD.  Active    XT         1.0   \n",
       "2219  Vidhi Specialty Food Ingredients Ltd-$  Active    B          1.0   \n",
       "1657                   ASM TECHNOLOGIES LTD.  Active    X         10.0   \n",
       "1260                       SIMRAN FARMS LTD.  Active    XT        10.0   \n",
       "673                     Frontier Capital Ltd  Active    XT        10.0   \n",
       "\n",
       "           ISIN No                         Industry Instrument  \n",
       "1883  INE786J01017     Other Apparels & Accessories     Equity  \n",
       "2258  INE929K01011     Comm.Trading  & Distribution     Equity  \n",
       "3227  INE761D01021                      Edible Oils     Equity  \n",
       "1398  INE599F01020           Other Industrial Goods     Equity  \n",
       "729   INE849C01026      Furniture-Furnishing-Paints     Equity  \n",
       "1909  INE812B01026                  Pharmaceuticals     Equity  \n",
       "2219  INE632C01026              Specialty Chemicals     Equity  \n",
       "1657  INE867C01010         IT Consulting & Software     Equity  \n",
       "1260  INE354D01017                   Packaged Foods     Equity  \n",
       "673   INE977E01013  Diversified Commercial Services     Equity  "
      ],
      "text/html": "<div>\n<style scoped>\n    .dataframe tbody tr th:only-of-type {\n        vertical-align: middle;\n    }\n\n    .dataframe tbody tr th {\n        vertical-align: top;\n    }\n\n    .dataframe thead th {\n        text-align: right;\n    }\n</style>\n<table border=\"1\" class=\"dataframe\">\n  <thead>\n    <tr style=\"text-align: right;\">\n      <th></th>\n      <th>Security Code</th>\n      <th>Issuer Name</th>\n      <th>Security Id</th>\n      <th>Security Name</th>\n      <th>Status</th>\n      <th>Group</th>\n      <th>Face Value</th>\n      <th>ISIN No</th>\n      <th>Industry</th>\n      <th>Instrument</th>\n    </tr>\n  </thead>\n  <tbody>\n    <tr>\n      <th>1883</th>\n      <td>530525</td>\n      <td>NaN</td>\n      <td>SHEETAL</td>\n      <td>SHEETAL DIAMONDS LTD.</td>\n      <td>Active</td>\n      <td>XT</td>\n      <td>10.0</td>\n      <td>INE786J01017</td>\n      <td>Other Apparels &amp; Accessories</td>\n      <td>Equity</td>\n    </tr>\n    <tr>\n      <th>2258</th>\n      <td>531867</td>\n      <td>NaN</td>\n      <td>UNITINT</td>\n      <td>UNITECH INTERNATIONAL LTD.</td>\n      <td>Active</td>\n      <td>X</td>\n      <td>10.0</td>\n      <td>INE929K01011</td>\n      <td>Comm.Trading  &amp; Distribution</td>\n      <td>Equity</td>\n    </tr>\n    <tr>\n      <th>3227</th>\n      <td>539132</td>\n      <td>NaN</td>\n      <td>VEGETABLE</td>\n      <td>Vegetable Products Ltd</td>\n      <td>Active</td>\n      <td>X</td>\n      <td>1.0</td>\n      <td>INE761D01021</td>\n      <td>Edible Oils</td>\n      <td>Equity</td>\n    </tr>\n    <tr>\n      <th>1398</th>\n      <td>523160</td>\n      <td>NaN</td>\n      <td>MORGANITE</td>\n      <td>MORGANITE CRUCIBLE (INDIA) LTD.</td>\n      <td>Active</td>\n      <td>X</td>\n      <td>5.0</td>\n      <td>INE599F01020</td>\n      <td>Other Industrial Goods</td>\n      <td>Equity</td>\n    </tr>\n    <tr>\n      <th>729</th>\n      <td>509874</td>\n      <td>NaN</td>\n      <td>SHALPAINTS</td>\n      <td>SHALIMAR PAINTS LTD.-$</td>\n      <td>Active</td>\n      <td>B</td>\n      <td>2.0</td>\n      <td>INE849C01026</td>\n      <td>Furniture-Furnishing-Paints</td>\n      <td>Equity</td>\n    </tr>\n    <tr>\n      <th>1909</th>\n      <td>530665</td>\n      <td>NaN</td>\n      <td>ZENITHHE</td>\n      <td>ZENITH HEALTH CARE LTD.</td>\n      <td>Active</td>\n      <td>XT</td>\n      <td>1.0</td>\n      <td>INE812B01026</td>\n      <td>Pharmaceuticals</td>\n      <td>Equity</td>\n    </tr>\n    <tr>\n      <th>2219</th>\n      <td>531717</td>\n      <td>NaN</td>\n      <td>VIDHIING</td>\n      <td>Vidhi Specialty Food Ingredients Ltd-$</td>\n      <td>Active</td>\n      <td>B</td>\n      <td>1.0</td>\n      <td>INE632C01026</td>\n      <td>Specialty Chemicals</td>\n      <td>Equity</td>\n    </tr>\n    <tr>\n      <th>1657</th>\n      <td>526433</td>\n      <td>NaN</td>\n      <td>ASMTEC</td>\n      <td>ASM TECHNOLOGIES LTD.</td>\n      <td>Active</td>\n      <td>X</td>\n      <td>10.0</td>\n      <td>INE867C01010</td>\n      <td>IT Consulting &amp; Software</td>\n      <td>Equity</td>\n    </tr>\n    <tr>\n      <th>1260</th>\n      <td>519566</td>\n      <td>NaN</td>\n      <td>SIMRAN</td>\n      <td>SIMRAN FARMS LTD.</td>\n      <td>Active</td>\n      <td>XT</td>\n      <td>10.0</td>\n      <td>INE354D01017</td>\n      <td>Packaged Foods</td>\n      <td>Equity</td>\n    </tr>\n    <tr>\n      <th>673</th>\n      <td>508980</td>\n      <td>NaN</td>\n      <td>FRONTCAP</td>\n      <td>Frontier Capital Ltd</td>\n      <td>Active</td>\n      <td>XT</td>\n      <td>10.0</td>\n      <td>INE977E01013</td>\n      <td>Diversified Commercial Services</td>\n      <td>Equity</td>\n    </tr>\n  </tbody>\n</table>\n</div>"
     },
     "metadata": {},
     "execution_count": 26
    }
   ],
   "source": [
    "sample_data  = equity.sample(10)\n",
    "sample_data"
   ]
  },
  {
   "cell_type": "code",
   "execution_count": 27,
   "metadata": {},
   "outputs": [
    {
     "output_type": "stream",
     "name": "stdout",
     "text": [
      "[530525, 531867, 539132, 523160, 509874, 530665, 531717, 526433, 519566, 508980]\n"
     ]
    }
   ],
   "source": [
    "Security_code = list(sample_data[\"Security Code\"])\n",
    "Security_Id = list(sample_data[\"Security Id\"])\n",
    "Security_Name = list(sample_data[\"Security Name\"])\n",
    "print(Security_code)"
   ]
  },
  {
   "cell_type": "code",
   "execution_count": 30,
   "metadata": {},
   "outputs": [
    {
     "output_type": "stream",
     "name": "stdout",
     "text": [
      "530525\n",
      "531867\n",
      "539132\n",
      "523160\n",
      "509874\n",
      "530665\n",
      "531717\n",
      "526433\n",
      "519566\n",
      "508980\n"
     ]
    }
   ],
   "source": [
    "import time, csv\n",
    "from selenium import webdriver\n",
    "from selenium.webdriver.support.ui import Select\n",
    "import datetime\n",
    "import random\n",
    "from selenium.webdriver.common.keys import Keys\n",
    "\n",
    "chromeOptions = webdriver.ChromeOptions()\n",
    "preferences = {\"download.default_directory\" : \"C:\\\\Users\\\\personal\\\\Desktop\\\\MSIT\\\\IT\\\\DataScience_2019501026\\\\Data Analytics and Data Visualisation\\\\Assignments\\\\Analysis\\\\Asst3_Data\"}\n",
    "chromeOptions.add_experimental_option(\"prefs\", preferences)\n",
    "chromedriver = \"C:\\\\Users\\\\personal\\Downloads\\\\chromedriver.exe\"\n",
    "driver = webdriver.Chrome(executable_path=chromedriver, options=chromeOptions)\n",
    "driver.maximize_window()\n",
    "\n",
    "driver.get(\"https://www.bseindia.com/markets/equity/EQReports/StockPrcHistori.aspx?flag=0\")\n",
    "\n",
    "#date\n",
    "driver.find_element_by_id(\"ContentPlaceHolder1_txtToDate\").click()\n",
    "time.sleep(3)\n",
    "x = datetime.datetime.now()\n",
    "date = str(int(x.strftime(\"%d\")))\n",
    "year = x.strftime(\"%Y\")\n",
    "driver.find_element_by_link_text(date).click()\n",
    "time.sleep(2)\n",
    "driver.find_element_by_id(\"ContentPlaceHolder1_txtFromDate\").click()\n",
    "select = Select(driver.find_element_by_class_name(\"ui-datepicker-year\"))\n",
    "pyear = str(int(year)-5)\n",
    "select.select_by_visible_text(pyear)\n",
    "driver.find_element_by_link_text(date).click()\n",
    "time.sleep(2)\n",
    "\n",
    "for i in Security_code:\n",
    "    random_code = i\n",
    "    print(random_code)\n",
    "    #company id\n",
    "    search = driver.find_element_by_id('ContentPlaceHolder1_smartSearch')\n",
    "    search.clear()\n",
    "    search.send_keys(random_code)\n",
    "    driver.find_element_by_class_name(\"quotemenu\").click()\n",
    "    #download\n",
    "    driver.find_element_by_id(\"ContentPlaceHolder1_btnSubmit\").click()\n",
    "    time.sleep(3)\n",
    "    driver.find_element_by_id(\"ContentPlaceHolder1_btnDownload\").click()\n",
    "    time.sleep(10)\n",
    "\n",
    "driver.close()"
   ]
  },
  {
   "cell_type": "code",
   "execution_count": 32,
   "metadata": {},
   "outputs": [],
   "source": [
    "data = pd.DataFrame()\n",
    "new_data = pd.DataFrame()\n",
    "for i in range(9):\n",
    "    link = \"C:\\\\Users\\\\personal\\\\Desktop\\\\MSIT\\\\IT\\\\DataScience_2019501026\\\\Data Analytics and Data Visualisation\\\\Assignments\\\\Analysis\\\\Asst3_Data\\\\\"+str(Security_code[i])+\".csv\"\n",
    "    x = pd.read_csv(link)[\"Close Price\"].reset_index()\n",
    "    data = pd.merge(x, icici, on='index').iloc[:,[1,2]]\n",
    "    row = {'Name': Security_Name[i], 'Corr':data.corr()['Close Price_x'][1]}\n",
    "    new_data = new_data.append(row, ignore_index=True)"
   ]
  },
  {
   "cell_type": "code",
   "execution_count": 33,
   "metadata": {},
   "outputs": [
    {
     "output_type": "execute_result",
     "data": {
      "text/plain": [
       "       Corr                                    Name\n",
       "0 -0.398119                   SHEETAL DIAMONDS LTD.\n",
       "1 -0.510745              UNITECH INTERNATIONAL LTD.\n",
       "2 -0.207128                  Vegetable Products Ltd\n",
       "3  0.566465         MORGANITE CRUCIBLE (INDIA) LTD.\n",
       "4 -0.511371                  SHALIMAR PAINTS LTD.-$\n",
       "5  0.461155                 ZENITH HEALTH CARE LTD.\n",
       "6  0.318769  Vidhi Specialty Food Ingredients Ltd-$\n",
       "7 -0.408257                   ASM TECHNOLOGIES LTD.\n",
       "8 -0.017933                       SIMRAN FARMS LTD."
      ],
      "text/html": "<div>\n<style scoped>\n    .dataframe tbody tr th:only-of-type {\n        vertical-align: middle;\n    }\n\n    .dataframe tbody tr th {\n        vertical-align: top;\n    }\n\n    .dataframe thead th {\n        text-align: right;\n    }\n</style>\n<table border=\"1\" class=\"dataframe\">\n  <thead>\n    <tr style=\"text-align: right;\">\n      <th></th>\n      <th>Corr</th>\n      <th>Name</th>\n    </tr>\n  </thead>\n  <tbody>\n    <tr>\n      <th>0</th>\n      <td>-0.398119</td>\n      <td>SHEETAL DIAMONDS LTD.</td>\n    </tr>\n    <tr>\n      <th>1</th>\n      <td>-0.510745</td>\n      <td>UNITECH INTERNATIONAL LTD.</td>\n    </tr>\n    <tr>\n      <th>2</th>\n      <td>-0.207128</td>\n      <td>Vegetable Products Ltd</td>\n    </tr>\n    <tr>\n      <th>3</th>\n      <td>0.566465</td>\n      <td>MORGANITE CRUCIBLE (INDIA) LTD.</td>\n    </tr>\n    <tr>\n      <th>4</th>\n      <td>-0.511371</td>\n      <td>SHALIMAR PAINTS LTD.-$</td>\n    </tr>\n    <tr>\n      <th>5</th>\n      <td>0.461155</td>\n      <td>ZENITH HEALTH CARE LTD.</td>\n    </tr>\n    <tr>\n      <th>6</th>\n      <td>0.318769</td>\n      <td>Vidhi Specialty Food Ingredients Ltd-$</td>\n    </tr>\n    <tr>\n      <th>7</th>\n      <td>-0.408257</td>\n      <td>ASM TECHNOLOGIES LTD.</td>\n    </tr>\n    <tr>\n      <th>8</th>\n      <td>-0.017933</td>\n      <td>SIMRAN FARMS LTD.</td>\n    </tr>\n  </tbody>\n</table>\n</div>"
     },
     "metadata": {},
     "execution_count": 33
    }
   ],
   "source": [
    "new_data"
   ]
  },
  {
   "cell_type": "code",
   "execution_count": 34,
   "metadata": {},
   "outputs": [
    {
     "output_type": "execute_result",
     "data": {
      "text/plain": [
       "'SHEETAL DIAMONDS LTD. has the highest correlation with ICIC Bank with a correlation of -0.3981193536310676'"
      ]
     },
     "metadata": {},
     "execution_count": 34
    }
   ],
   "source": [
    "new_data.sort_values(\"Corr\", axis = 0, ascending = False, inplace = True, na_position ='last')\n",
    "str(new_data['Name'][0])+ \" has the highest correlation with ICIC Bank with a correlation of \" +str(new_data['Corr'][0])"
   ]
  },
  {
   "cell_type": "code",
   "execution_count": null,
   "metadata": {},
   "outputs": [],
   "source": []
  }
 ],
 "metadata": {
  "kernelspec": {
   "name": "python3",
   "display_name": "Python 3.7.4 32-bit",
   "metadata": {
    "interpreter": {
     "hash": "d94ced1cfaa7a577b1a92978a713d67829e9d58ef52aaace7ec784d3a2026c54"
    }
   }
  },
  "language_info": {
   "codemirror_mode": {
    "name": "ipython",
    "version": 3
   },
   "file_extension": ".py",
   "mimetype": "text/x-python",
   "name": "python",
   "nbconvert_exporter": "python",
   "pygments_lexer": "ipython3",
   "version": "3.7.4-final"
  }
 },
 "nbformat": 4,
 "nbformat_minor": 2
}