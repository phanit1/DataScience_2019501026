{
 "metadata": {
  "language_info": {
   "codemirror_mode": {
    "name": "ipython",
    "version": 3
   },
   "file_extension": ".py",
   "mimetype": "text/x-python",
   "name": "python",
   "nbconvert_exporter": "python",
   "pygments_lexer": "ipython3",
   "version": "3.7.4-final"
  },
  "orig_nbformat": 2,
  "kernelspec": {
   "name": "python3",
   "display_name": "Python 3.7.4 32-bit",
   "metadata": {
    "interpreter": {
     "hash": "d94ced1cfaa7a577b1a92978a713d67829e9d58ef52aaace7ec784d3a2026c54"
    }
   }
  }
 },
 "nbformat": 4,
 "nbformat_minor": 2,
 "cells": [
  {
   "cell_type": "code",
   "execution_count": 1,
   "metadata": {},
   "outputs": [],
   "source": [
    "import glob\n",
    "import csv\n",
    "import os\n",
    "import pandas as pd"
   ]
  },
  {
   "cell_type": "code",
   "execution_count": 2,
   "metadata": {},
   "outputs": [],
   "source": [
    "dic = {}"
   ]
  },
  {
   "cell_type": "code",
   "execution_count": 3,
   "metadata": {},
   "outputs": [],
   "source": [
    "for files in glob.glob('C:\\\\Users\\\\personal\\\\Desktop\\\\MSIT\\\\IT\\\\DataScience_2019501026\\\\Data Analytics and Data Visualisation\\\\Exam Solutions\\\\Day\\\\*.csv'):\n",
    "    f=open(files, 'r')\n",
    "    name = os.path.basename(f.name).replace(\".csv\",\"\")\n",
    "    data = pd.read_csv(f)\n",
    "    close = data[\"gainORloss\"]\n",
    "    val = close[len(close) - 1] - close[1]\n",
    "    dic[name] = val\n",
    "    f.close()"
   ]
  },
  {
   "cell_type": "code",
   "execution_count": 4,
   "metadata": {},
   "outputs": [
    {
     "output_type": "execute_result",
     "data": {
      "text/plain": [
       "102"
      ]
     },
     "metadata": {},
     "execution_count": 4
    }
   ],
   "source": [
    "len(dic)"
   ]
  },
  {
   "cell_type": "code",
   "execution_count": 5,
   "metadata": {},
   "outputs": [],
   "source": [
    "sorteddic = {k: v for k, v in sorted(dic.items(), key=lambda item: item[1], reverse = True)}"
   ]
  },
  {
   "cell_type": "code",
   "execution_count": 6,
   "metadata": {},
   "outputs": [
    {
     "output_type": "execute_result",
     "data": {
      "text/plain": [
       "{'BKR': 0.0655017832530429,\n",
       " 'CARR': 0.05908861424036749,\n",
       " 'AMD': 0.05141448530374104,\n",
       " 'BA': 0.04907716208888058,\n",
       " 'APA': 0.047909717981882594,\n",
       " 'BBY': 0.042425346591425495,\n",
       " 'BWA': 0.041398604024195595,\n",
       " 'AMAT': 0.040361224046101984,\n",
       " 'ABMD': 0.03963188966588915,\n",
       " 'COG': 0.037148261266301,\n",
       " 'KMX': 0.03539989878308192,\n",
       " 'CVX': 0.034568470816910724,\n",
       " 'APTV': 0.031269896271791,\n",
       " 'CE': 0.030423058030140337,\n",
       " 'AMZN': 0.029865232542885423,\n",
       " 'CAH': 0.027291085560131823,\n",
       " 'AAPL': 0.02623284156880845,\n",
       " 'ALXN': 0.024878667236904795,\n",
       " 'AKAM': 0.024765483959044765,\n",
       " 'ALB': 0.02402040344121459,\n",
       " 'BIIB': 0.023328893373188775,\n",
       " 'ANET': 0.023240136058725547,\n",
       " 'CAT': 0.022952753281917593,\n",
       " 'AOS': 0.021097741780768287}"
      ]
     },
     "metadata": {},
     "execution_count": 6
    }
   ],
   "source": [
    "k = 1\n",
    "topdict = {}\n",
    "for each in sorteddic.keys():\n",
    "    topdict[each] = sorteddic.get(each)\n",
    "    k = k+1\n",
    "    if(k == 25):\n",
    "        break\n",
    "topdict"
   ]
  },
  {
   "cell_type": "code",
   "execution_count": 7,
   "metadata": {},
   "outputs": [],
   "source": [
    "sorteddicrev = {k: v for k, v in sorted(dic.items(), key=lambda item: item[1])}"
   ]
  },
  {
   "cell_type": "code",
   "execution_count": 8,
   "metadata": {},
   "outputs": [
    {
     "output_type": "execute_result",
     "data": {
      "text/plain": [
       "{'AMT': -0.06049500999319379,\n",
       " 'CHTR': -0.03901331443725797,\n",
       " 'AEP': -0.033512546968739176,\n",
       " 'AEE': -0.027486675500526303,\n",
       " 'AES': -0.027138692764468786,\n",
       " 'AAL': -0.02562972170026967,\n",
       " 'AWK': -0.022661649305926623,\n",
       " 'CPB': -0.02255653698190474,\n",
       " 'LNT': -0.022304710141530792,\n",
       " 'CCL': -0.02189039008586402,\n",
       " 'ATO': -0.021547013907007306,\n",
       " 'CF': -0.016165020719152157,\n",
       " 'ARE': -0.014604489118083874,\n",
       " 'AON': -0.013378768121651508,\n",
       " 'ANTM': -0.012678833841387016,\n",
       " 'ADM': -0.011731127325646629,\n",
       " 'CNP': -0.011273287024006873,\n",
       " 'AVB': -0.006621176836506093,\n",
       " 'CNC': -0.005708278072934725,\n",
       " 'AZO': -0.005510772303133127,\n",
       " 'CB': -0.005383412917763231,\n",
       " 'AIZ': -0.004944997357727354,\n",
       " 'AIG': -0.00486984894162279,\n",
       " 'ALLE': -0.004277453249310836}"
      ]
     },
     "metadata": {},
     "execution_count": 8
    }
   ],
   "source": [
    "k = 1\n",
    "bottomdict = {}\n",
    "for each in sorteddicrev.keys():\n",
    "    bottomdict[each] = sorteddicrev.get(each)\n",
    "    k = k+1\n",
    "    if(k == 25):\n",
    "        break\n",
    "bottomdict"
   ]
  },
  {
   "cell_type": "code",
   "execution_count": 9,
   "metadata": {},
   "outputs": [
    {
     "output_type": "execute_result",
     "data": {
      "text/plain": [
       "576"
      ]
     },
     "metadata": {},
     "execution_count": 9
    }
   ],
   "source": [
    "import numpy as np\n",
    "import math\n",
    "from scipy import interpolate\n",
    "corrlis = []\n",
    "for each1 in topdict.keys():\n",
    "    for each2 in topdict.keys():\n",
    "        corr_value = np.corrcoef(topdict.get(each1), topdict.get(each2))[0][1]\n",
    "        corrlis.append(corr_value)\n",
    "len(corrlis)"
   ]
  }
 ]
}