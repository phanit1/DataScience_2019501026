{
 "metadata": {
  "language_info": {
   "codemirror_mode": {
    "name": "ipython",
    "version": 3
   },
   "file_extension": ".py",
   "mimetype": "text/x-python",
   "name": "python",
   "nbconvert_exporter": "python",
   "pygments_lexer": "ipython3",
   "version": "3.7.4-final"
  },
  "orig_nbformat": 2,
  "kernelspec": {
   "name": "python3",
   "display_name": "Python 3.7.4 32-bit",
   "metadata": {
    "interpreter": {
     "hash": "d94ced1cfaa7a577b1a92978a713d67829e9d58ef52aaace7ec784d3a2026c54"
    }
   }
  }
 },
 "nbformat": 4,
 "nbformat_minor": 2,
 "cells": [
  {
   "cell_type": "code",
   "execution_count": 1,
   "metadata": {},
   "outputs": [],
   "source": [
    "import glob\n",
    "import csv\n",
    "import os\n",
    "import pandas as pd"
   ]
  },
  {
   "cell_type": "code",
   "execution_count": 2,
   "metadata": {},
   "outputs": [],
   "source": [
    "dic = {}"
   ]
  },
  {
   "cell_type": "code",
   "execution_count": 3,
   "metadata": {},
   "outputs": [],
   "source": [
    "for files in glob.glob('C:\\\\Users\\\\personal\\\\Desktop\\\\MSIT\\\\IT\\\\DataScience_2019501026\\\\Data Analytics and Data Visualisation\\\\Exam Solutions\\\\Week\\\\*.csv'):\n",
    "    f=open(files, 'r')\n",
    "    name = os.path.basename(f.name).replace(\".csv\",\"\")\n",
    "    data = pd.read_csv(f)\n",
    "    close = data[\"gainORloss\"]\n",
    "    val = close[len(close) - 1] - close[1]\n",
    "    dic[name] = val\n",
    "    f.close()"
   ]
  },
  {
   "cell_type": "code",
   "execution_count": 4,
   "metadata": {},
   "outputs": [
    {
     "output_type": "execute_result",
     "data": {
      "text/plain": [
       "72"
      ]
     },
     "metadata": {},
     "execution_count": 4
    }
   ],
   "source": [
    "len(dic)"
   ]
  },
  {
   "cell_type": "code",
   "execution_count": 5,
   "metadata": {},
   "outputs": [],
   "source": [
    "sorteddic = {k: v for k, v in sorted(dic.items(), key=lambda item: item[1], reverse = True)}"
   ]
  },
  {
   "cell_type": "code",
   "execution_count": 6,
   "metadata": {},
   "outputs": [
    {
     "output_type": "execute_result",
     "data": {
      "text/plain": [
       "{'AXP': 0.07699178413541241,\n",
       " 'BK': 0.06946947201261167,\n",
       " 'AMZN': 0.06330643842713513,\n",
       " 'ANET': 0.0631114420819816,\n",
       " 'BIO': 0.05224794907831698,\n",
       " 'BKR': 0.04177704961594331,\n",
       " 'ANSS': 0.04151912957332482,\n",
       " 'GOOG': 0.04071907861247759,\n",
       " 'GOOGL': 0.038317221502552457,\n",
       " 'ABC': 0.033937942563549095,\n",
       " 'AWK': 0.03358428429746119,\n",
       " 'AIG': 0.03319502074688807,\n",
       " 'BDX': 0.032248410506518166,\n",
       " 'ABMD': 0.030007919096159297,\n",
       " 'BA': 0.027726145331915975,\n",
       " 'AES': 0.024096385542168308,\n",
       " 'ALB': 0.023017902813299296,\n",
       " 'ALK': 0.02202168560975193,\n",
       " 'AJG': 0.021723652683669492,\n",
       " 'AVY': 0.021657953090236326,\n",
       " 'BKNG': 0.021352466958698857,\n",
       " 'AIZ': 0.02034045518293759,\n",
       " 'APA': 0.020024173220165142,\n",
       " 'APD': 0.019847253988157565}"
      ]
     },
     "metadata": {},
     "execution_count": 6
    }
   ],
   "source": [
    "k = 1\n",
    "topdict = {}\n",
    "for each in sorteddic.keys():\n",
    "    topdict[each] = sorteddic.get(each)\n",
    "    k = k+1\n",
    "    if(k == 25):\n",
    "        break\n",
    "topdict"
   ]
  },
  {
   "cell_type": "code",
   "execution_count": 7,
   "metadata": {},
   "outputs": [],
   "source": [
    "sorteddicrev = {k: v for k, v in sorted(dic.items(), key=lambda item: item[1])}"
   ]
  },
  {
   "cell_type": "code",
   "execution_count": 8,
   "metadata": {},
   "outputs": [
    {
     "output_type": "execute_result",
     "data": {
      "text/plain": [
       "{'MO': -0.11742095055041091,\n",
       " 'AMAT': -0.0974750440399288,\n",
       " 'ALGN': -0.05929491069306536,\n",
       " 'AAPL': -0.05436879073135392,\n",
       " 'AVB': -0.03518371465107606,\n",
       " 'ADI': -0.033645242120204255,\n",
       " 'ALXN': -0.03340135492114804,\n",
       " 'AAP': -0.027467221906954276,\n",
       " 'AZO': -0.018444531253352547,\n",
       " 'AMT': -0.016688618675472888,\n",
       " 'T': -0.013556418434174766,\n",
       " 'BXP': -0.009684227368421006,\n",
       " 'BIIB': -0.00901082084677629,\n",
       " 'ARE': -0.006183017159529847,\n",
       " 'APH': -0.004694308234882261,\n",
       " 'BWA': -0.0018954322174162819,\n",
       " 'AKAM': -0.0018232397549833301,\n",
       " 'BLK': -0.0006674745649428715,\n",
       " 'AMGN': 0.0004663208261403984,\n",
       " 'BLL': 0.0007376199034976327,\n",
       " 'ALLE': 0.002241911504424765,\n",
       " 'A': 0.005033367652107934,\n",
       " 'ADBE': 0.005238887292690508,\n",
       " 'AMD': 0.006006006006006093}"
      ]
     },
     "metadata": {},
     "execution_count": 8
    }
   ],
   "source": [
    "k = 1\n",
    "bottomdict = {}\n",
    "for each in sorteddicrev.keys():\n",
    "    bottomdict[each] = sorteddicrev.get(each)\n",
    "    k = k+1\n",
    "    if(k == 25):\n",
    "        break\n",
    "bottomdict"
   ]
  }
 ]
}