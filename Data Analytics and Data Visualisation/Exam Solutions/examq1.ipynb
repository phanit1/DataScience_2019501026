{
 "metadata": {
  "language_info": {
   "codemirror_mode": {
    "name": "ipython",
    "version": 3
   },
   "file_extension": ".py",
   "mimetype": "text/x-python",
   "name": "python",
   "nbconvert_exporter": "python",
   "pygments_lexer": "ipython3",
   "version": "3.7.4-final"
  },
  "orig_nbformat": 2,
  "kernelspec": {
   "name": "python3",
   "display_name": "Python 3.7.4 32-bit",
   "metadata": {
    "interpreter": {
     "hash": "d94ced1cfaa7a577b1a92978a713d67829e9d58ef52aaace7ec784d3a2026c54"
    }
   }
  }
 },
 "nbformat": 4,
 "nbformat_minor": 2,
 "cells": [
  {
   "cell_type": "code",
   "execution_count": 83,
   "metadata": {},
   "outputs": [],
   "source": [
    "from selenium import webdriver\n",
    "import time\n",
    "from selenium.webdriver.common.keys import Keys\n",
    "from selenium.webdriver.support.ui import Select\n",
    "import datetime"
   ]
  },
  {
   "cell_type": "code",
   "execution_count": 84,
   "metadata": {},
   "outputs": [],
   "source": [
    "chromeOptions = webdriver.ChromeOptions()\n",
    "preferences = {\"download.default_directory\" : \"C:\\\\Users\\\\personal\\\\Desktop\\\\MSIT\\\\IT\\\\DataScience_2019501026\\\\Data Analytics and Data Visualisation\\\\Exam Solutions\\\\Day\"}\n",
    "chromeOptions.add_experimental_option(\"prefs\", preferences)\n",
    "chromedriver = \"C:\\\\Users\\\\personal\\Downloads\\\\chromedriver.exe\"\n",
    "browser = webdriver.Chrome(executable_path=chromedriver, options=chromeOptions)\n",
    "browser.maximize_window()\n",
    "\n",
    "url = \"https://en.wikipedia.org/wiki/List_of_S%26P_500_companies\"\n",
    "browser.get(url)\n",
    "time.sleep(2)"
   ]
  },
  {
   "cell_type": "code",
   "execution_count": 85,
   "metadata": {},
   "outputs": [
    {
     "output_type": "stream",
     "name": "stdout",
     "text": [
      "104\n['MMM', 'ABT', 'ABBV', 'ABMD', 'ACN', 'ATVI', 'ADBE', 'AMD', 'AAP', 'AES', 'AFL', 'A', 'APD', 'AKAM', 'ALK', 'ALB', 'ARE', 'ALXN', 'ALGN', 'ALLE', 'LNT', 'ALL', 'GOOGL', 'GOOG', 'MO', 'AMZN', 'AMCR', 'AEE', 'AAL', 'AEP', 'AXP', 'AIG', 'AMT', 'AWK', 'AMP', 'ABC', 'AME', 'AMGN', 'APH', 'ADI', 'ANSS', 'ANTM', 'AON', 'AOS', 'APA', 'AAPL', 'AMAT', 'APTV', 'ADM', 'ANET', 'AJG', 'AIZ', 'T', 'ATO', 'ADSK', 'ADP', 'AZO', 'AVB', 'AVY', 'BKR', 'BLL', 'BAC', 'BK', 'BAX', 'BDX', 'BRK.B', 'BBY', 'BIO', 'BIIB', 'BLK', 'BA', 'BKNG', 'BWA', 'BXP', 'BSX', 'BMY', 'AVGO', 'BR', 'BF.B', 'CHRW', 'COG', 'CDNS', 'CPB', 'COF', 'CAH', 'KMX', 'CCL', 'CARR', 'CTLT', 'CAT', 'CBOE', 'CBRE', 'CDW', 'CE', 'CNC', 'CNP', 'CERN', 'CF', 'SCHW', 'CHTR', 'CVX', 'CMG', 'CB', 'CHD']\n"
     ]
    }
   ],
   "source": [
    "Companies_list = []\n",
    "for i in range(1,105):\n",
    "\tp = browser.find_element_by_xpath('//*[@id=\"constituents\"]/tbody/tr['+str(i)+']/td[1]/a')\n",
    "\tCompanies_list.append(p.text)\n",
    "print(len(Companies_list))\n",
    "print(Companies_list)\n",
    "\n",
    "time.sleep(4)"
   ]
  },
  {
   "cell_type": "code",
   "execution_count": 86,
   "metadata": {},
   "outputs": [
    {
     "output_type": "stream",
     "name": "stdout",
     "text": [
      "1523125800\n1609525800\n"
     ]
    }
   ],
   "source": [
    "#Time Conversion\n",
    "Start_date = datetime.datetime(2018, 4, 8)\n",
    "End_date = datetime.datetime(2021, 1, 2)\n",
    "from_date = int(time.mktime(Start_date.timetuple()))\n",
    "to_date = int(time.mktime(End_date.timetuple()))\n",
    "print(from_date)\n",
    "print(to_date)"
   ]
  },
  {
   "cell_type": "code",
   "execution_count": 57,
   "metadata": {},
   "outputs": [],
   "source": [
    "for each in Companies_list:\n",
    "    browser.get(\"https://finance.yahoo.com/quote/\"+each+\"/history?period1=\"+str(from_date)+\"&period2=\"+str(to_date)+\"&interval=1d&filter=history&frequency=1d\")\n",
    "    browser.find_element_by_xpath('//*[@id=\"Col1-1-HistoricalDataTable-Proxy\"]/section/div[1]/div[2]/span[2]/a/span').click()\n",
    "    time.sleep(3)"
   ]
  },
  {
   "cell_type": "code",
   "execution_count": 80,
   "metadata": {},
   "outputs": [],
   "source": [
    "chromeOptions = webdriver.ChromeOptions()\n",
    "preferences2 = {\"download.default_directory\" : \"C:\\\\Users\\\\personal\\\\Desktop\\\\MSIT\\\\IT\\\\DataScience_2019501026\\\\Data Analytics and Data Visualisation\\\\Exam Solutions\\\\Week\"}\n",
    "chromeOptions.add_experimental_option(\"prefs\", preferences2)\n",
    "chromedriver2 = \"C:\\\\Users\\\\personal\\\\Downloads\\\\chromedriver.exe\"\n",
    "browser = webdriver.Chrome(executable_path=chromedriver2, options = chromeOptions)"
   ]
  },
  {
   "cell_type": "code",
   "execution_count": 81,
   "metadata": {},
   "outputs": [],
   "source": [
    "for each in Companies_list:\n",
    "    browser.get(\"https://finance.yahoo.com/quote/\"+each+\"/history?period1=\"+str(from_date)+\"&period2=\"+str(to_date)+\"&interval=1d&filter=history&frequency=1wk\")\n",
    "    browser.find_element_by_xpath('//*[@id=\"Col1-1-HistoricalDataTable-Proxy\"]/section/div[1]/div[2]/span[2]/a/span').click()\n",
    "    time.sleep(3)"
   ]
  },
  {
   "cell_type": "code",
   "execution_count": 9,
   "metadata": {},
   "outputs": [],
   "source": [
    "chromeOptions = webdriver.ChromeOptions()\n",
    "preferences3 = {\"download.default_directory\" : \"C:\\\\Users\\\\personal\\\\Desktop\\\\MSIT\\\\IT\\\\DataScience_2019501026\\\\Data Analytics and Data Visualisation\\\\Exam Solutions\\\\Month\"}\n",
    "chromeOptions.add_experimental_option(\"prefs\", preferences3)\n",
    "chromedriver3 = \"C:\\\\Users\\\\personal\\\\Downloads\\\\chromedriver.exe\"\n",
    "browser = webdriver.Chrome(executable_path=chromedriver3, options = chromeOptions)\n",
    "\n",
    "for each in Companies_list:\n",
    "    browser.get(\"https://finance.yahoo.com/quote/\"+each+\"/history?period1=\"+str(from_date)+\"&period2=\"+str(to_date)+\"&interval=1d&filter=history&frequency=1mo\")\n",
    "    browser.find_element_by_xpath('//*[@id=\"Col1-1-HistoricalDataTable-Proxy\"]/section/div[1]/div[2]/span[2]/a/span').click()\n",
    "    time.sleep(3)"
   ]
  },
  {
   "cell_type": "code",
   "execution_count": null,
   "metadata": {},
   "outputs": [],
   "source": []
  }
 ]
}