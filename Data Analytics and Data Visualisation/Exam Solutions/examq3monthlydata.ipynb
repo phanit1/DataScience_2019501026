{
 "metadata": {
  "language_info": {
   "codemirror_mode": {
    "name": "ipython",
    "version": 3
   },
   "file_extension": ".py",
   "mimetype": "text/x-python",
   "name": "python",
   "nbconvert_exporter": "python",
   "pygments_lexer": "ipython3",
   "version": "3.7.4"
  },
  "orig_nbformat": 2,
  "kernelspec": {
   "name": "python374jvsc74a57bd0d94ced1cfaa7a577b1a92978a713d67829e9d58ef52aaace7ec784d3a2026c54",
   "display_name": "Python 3.7.4 32-bit"
  },
  "metadata": {
   "interpreter": {
    "hash": "d94ced1cfaa7a577b1a92978a713d67829e9d58ef52aaace7ec784d3a2026c54"
   }
  }
 },
 "nbformat": 4,
 "nbformat_minor": 2,
 "cells": [
  {
   "cell_type": "code",
   "execution_count": 28,
   "metadata": {},
   "outputs": [],
   "source": [
    "import glob\n",
    "import csv\n",
    "import os\n",
    "import pandas as pd"
   ]
  },
  {
   "cell_type": "code",
   "execution_count": 29,
   "metadata": {},
   "outputs": [],
   "source": [
    "dic = {}"
   ]
  },
  {
   "cell_type": "code",
   "execution_count": 30,
   "metadata": {},
   "outputs": [],
   "source": [
    "for files in glob.glob('C:\\\\Users\\\\personal\\\\Desktop\\\\MSIT\\\\IT\\\\DataScience_2019501026\\\\Data Analytics and Data Visualisation\\\\Exam Solutions\\\\Month\\\\*.csv'):\n",
    "    f=open(files, 'r')\n",
    "    name = os.path.basename(f.name).replace(\".csv\",\"\")\n",
    "    data = pd.read_csv(f)\n",
    "    close = data[\"gainORloss\"]\n",
    "    val = close[len(close) - 1] - close[1]\n",
    "    dic[name] = val\n",
    "    f.close()"
   ]
  },
  {
   "cell_type": "code",
   "execution_count": 31,
   "metadata": {},
   "outputs": [
    {
     "output_type": "execute_result",
     "data": {
      "text/plain": [
       "52"
      ]
     },
     "metadata": {},
     "execution_count": 31
    }
   ],
   "source": [
    "len(dic)"
   ]
  },
  {
   "cell_type": "code",
   "execution_count": 32,
   "metadata": {},
   "outputs": [],
   "source": [
    "sorteddic = {k: v for k, v in sorted(dic.items(), key=lambda item: item[1], reverse = True)}"
   ]
  },
  {
   "cell_type": "code",
   "execution_count": 33,
   "metadata": {},
   "outputs": [
    {
     "output_type": "execute_result",
     "data": {
      "text/plain": [
       "{'ALK': nan,\n",
       " 'AMD': 0.09441483100000014,\n",
       " 'ABC': 0.09143275699999998,\n",
       " 'AMT': 0.07025788100000008,\n",
       " 'APA': 0.052771214000000066,\n",
       " 'AIZ': 0.04585887099999986,\n",
       " 'LNT': 0.04203117200000017,\n",
       " 'ANTM': 0.03997637499999995,\n",
       " 'AEP': 0.038227416000000014,\n",
       " 'ADM': 0.03334383800000018,\n",
       " 'GOOG': 0.032539182000000055,\n",
       " 'GOOGL': 0.026854542000000148,\n",
       " 'AWK': 0.02564922199999997,\n",
       " 'AEE': 0.02369321000000002,\n",
       " 'AIG': 0.01965751200000021,\n",
       " 'AMZN': 0.013994700000000027,\n",
       " 'APH': 0.0028302409999998446,\n",
       " 'ACN': 0.0015863330000001064,\n",
       " 'ANSS': -0.005418479999999892,\n",
       " 'AMGN': -0.007348271999999989,\n",
       " 'ALLE': -0.008084785000000094,\n",
       " 'MO': -0.010047383999999937,\n",
       " 'AAP': -0.01010781999999999,\n",
       " 'APD': -0.011145809999999923,\n",
       " 'MMM': -0.014378046999999672}"
      ]
     },
     "metadata": {},
     "execution_count": 33
    }
   ],
   "source": [
    "k = 1\n",
    "topdict = {}\n",
    "for each in sorteddic.keys():\n",
    "    topdict[each] = sorteddic.get(each)\n",
    "    k = k+1\n",
    "    if(k == 26):\n",
    "        break\n",
    "top_dict_keys = list(topdict.keys())\n",
    "top_dict_values = list(topdict.values())\n",
    "df = pd.DataFrame()\n",
    "df[\"Company\"] = top_dict_keys\n",
    "df[\"Value\"] = top_dict_values \n",
    "df.to_csv(\"month_top_dict.csv\",index=False)\n",
    "topdict"
   ]
  },
  {
   "cell_type": "code",
   "execution_count": 34,
   "metadata": {},
   "outputs": [],
   "source": [
    "sorteddicrev = {k: v for k, v in sorted(dic.items(), key=lambda item: item[1])}"
   ]
  },
  {
   "cell_type": "code",
   "execution_count": 35,
   "metadata": {},
   "outputs": [
    {
     "output_type": "execute_result",
     "data": {
      "text/plain": [
       "{'AAL': -0.25099182200000003,\n",
       " 'ALXN': -0.15384668499999998,\n",
       " 'APTV': -0.15301740399999986,\n",
       " 'AMAT': -0.14363635399999986,\n",
       " 'AAPL': -0.1123038209999998,\n",
       " 'ALL': -0.09316692499999979,\n",
       " 'ABBV': -0.091874974,\n",
       " 'ABMD': -0.08630304700000013,\n",
       " 'AJG': -0.08241098200000008,\n",
       " 'AES': -0.08099572100000008,\n",
       " 'ATVI': -0.07310994900000001,\n",
       " 'ADI': -0.07168869399999989,\n",
       " 'ARE': -0.07139676599999989,\n",
       " 'ALGN': -0.06956563300000007,\n",
       " 'ALB': -0.069177547,\n",
       " 'ADBE': -0.06572510599999992,\n",
       " 'AFL': -0.05956286800000021,\n",
       " 'AON': -0.049881931000000046,\n",
       " 'ANET': -0.04535282500000015,\n",
       " 'AKAM': -0.043456012000000044,\n",
       " 'AOS': -0.039092273000000066,\n",
       " 'AMP': -0.03783985599999995,\n",
       " 'AME': -0.031983732000000265,\n",
       " 'AMCR': -0.02976413,\n",
       " 'AXP': -0.022249146000000053}"
      ]
     },
     "metadata": {},
     "execution_count": 35
    }
   ],
   "source": [
    "k = 1\n",
    "bottomdict = {}\n",
    "for each in sorteddicrev.keys():\n",
    "    bottomdict[each] = sorteddicrev.get(each)\n",
    "    k = k+1\n",
    "    if(k == 26):\n",
    "        break\n",
    "bottom_dict_keys = list(bottomdict.keys())\n",
    "bottom_dict_values = list(bottomdict.values())\n",
    "df = pd.DataFrame()\n",
    "df[\"Company\"] = bottom_dict_keys\n",
    "df[\"Value\"] = bottom_dict_values \n",
    "df.to_csv(\"month_bottom_dict.csv\",index=False)\n",
    "bottomdict"
   ]
  },
  {
   "cell_type": "code",
   "execution_count": 36,
   "metadata": {},
   "outputs": [
    {
     "output_type": "execute_result",
     "data": {
      "text/plain": [
       "625"
      ]
     },
     "metadata": {},
     "execution_count": 36
    }
   ],
   "source": [
    "import numpy as np\n",
    "import math\n",
    "from scipy import interpolate\n",
    "corrlis = []\n",
    "for each1 in topdict.keys():\n",
    "    for each2 in topdict.keys():\n",
    "        corr_value = np.corrcoef(topdict.get(each1), topdict.get(each2))[0][1]\n",
    "        corrlis.append(corr_value)\n",
    "len(corrlis)"
   ]
  },
  {
   "cell_type": "code",
   "execution_count": null,
   "metadata": {},
   "outputs": [],
   "source": []
  }
 ]
}