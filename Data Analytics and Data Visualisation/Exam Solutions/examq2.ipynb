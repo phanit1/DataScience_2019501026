{
 "metadata": {
  "language_info": {
   "codemirror_mode": {
    "name": "ipython",
    "version": 3
   },
   "file_extension": ".py",
   "mimetype": "text/x-python",
   "name": "python",
   "nbconvert_exporter": "python",
   "pygments_lexer": "ipython3",
   "version": "3.7.4-final"
  },
  "orig_nbformat": 2,
  "kernelspec": {
   "name": "python3",
   "display_name": "Python 3.7.4 32-bit",
   "metadata": {
    "interpreter": {
     "hash": "d94ced1cfaa7a577b1a92978a713d67829e9d58ef52aaace7ec784d3a2026c54"
    }
   }
  }
 },
 "nbformat": 4,
 "nbformat_minor": 2,
 "cells": [
  {
   "cell_type": "code",
   "execution_count": 51,
   "metadata": {},
   "outputs": [],
   "source": [
    "import glob\n",
    "import csv\n",
    "import os\n",
    "import pandas as pd"
   ]
  },
  {
   "cell_type": "code",
   "execution_count": 53,
   "metadata": {},
   "outputs": [],
   "source": [
    "for files in glob.glob('C:\\\\Users\\\\personal\\\\Desktop\\\\MSIT\\\\IT\\\\DataScience_2019501026\\\\Data Analytics and Data Visualisation\\\\Exam Solutions\\\\Day\\\\*.csv'):\n",
    "    f = open(files, 'r')\n",
    "    name = os.path.basename(f.name).replace(\".csv\",\"\")\n",
    "    data = pd.read_csv(f)\n",
    "    lis = []\n",
    "    for each in range(0, len(data)-1):\n",
    "        row2 = data.iloc[each]\n",
    "        row1 = data.iloc[each+1]\n",
    "        gl = (row2[\"Close\"] + row1[\"Close\"]) / row1[\"Close\"]\n",
    "        lis.append(gl)\n",
    "    lis.insert(0,0)\n",
    "    data.loc[:,'gainORloss'] = lis\n",
    "    data.to_csv(r'C:\\\\Users\\\\personal\\\\Desktop\\\\MSIT\\\\IT\\\\DataScience_2019501026\\\\Data Analytics and Data Visualisation\\\\Exam Solutions\\\\Day\\\\'+name+'.csv')\n",
    "    f.close()"
   ]
  },
  {
   "cell_type": "code",
   "execution_count": 56,
   "metadata": {},
   "outputs": [],
   "source": [
    "for files in glob.glob('C:\\\\Users\\\\personal\\\\Desktop\\\\MSIT\\\\IT\\\\DataScience_2019501026\\\\Data Analytics and Data Visualisation\\\\Exam Solutions\\\\Week\\\\*.csv'):\n",
    "    f=open(files, 'r')\n",
    "    name = os.path.basename(f.name).replace(\".csv\",\"\")\n",
    "    data = pd.read_csv(f)\n",
    "    lis = []\n",
    "    for each in range(0, len(data)-1):\n",
    "        row2 = data.iloc[each]\n",
    "        row1 = data.iloc[each+1]\n",
    "        gl = (row2[\"Close\"] + row1[\"Close\"]) / row1[\"Close\"]\n",
    "        lis.append(gl)\n",
    "    lis.insert(0,0)\n",
    "    data.loc[:,'gainORloss'] = lis\n",
    "    data.to_csv(r'C:\\\\Users\\\\personal\\\\Desktop\\\\MSIT\\\\IT\\\\DataScience_2019501026\\\\Data Analytics and Data Visualisation\\\\Exam Solutions\\\\Week\\\\'+name+'.csv')\n",
    "    f.close()"
   ]
  },
  {
   "cell_type": "code",
   "execution_count": 54,
   "metadata": {},
   "outputs": [],
   "source": [
    "for files in glob.glob('C:\\\\Users\\\\personal\\\\Desktop\\\\MSIT\\\\IT\\\\DataScience_2019501026\\\\Data Analytics and Data Visualisation\\\\Exam Solutions\\\\Month\\\\*.csv'):\n",
    "    f=open(files, 'r')\n",
    "    name = os.path.basename(f.name).replace(\".csv\",\"\")\n",
    "    data = pd.read_csv(f)\n",
    "    lis = []\n",
    "    for each in range(0, len(data)-1):\n",
    "        row2 = data.iloc[each]\n",
    "        row1 = data.iloc[each+1]\n",
    "        gl = (row2[\"Close\"] + row1[\"Close\"]) / row1[\"Close\"]\n",
    "        lis.append(gl)\n",
    "    lis.insert(0,0)\n",
    "    data.loc[:,'gainORloss'] = lis\n",
    "    data.to_csv(r'C:\\\\Users\\\\personal\\\\Desktop\\\\MSIT\\\\IT\\\\DataScience_2019501026\\\\Data Analytics and Data Visualisation\\\\Exam Solutions\\\\Month\\\\'+name+'.csv')\n",
    "    f.close()"
   ]
  },
  {
   "cell_type": "code",
   "execution_count": null,
   "metadata": {},
   "outputs": [],
   "source": []
  }
 ]
}