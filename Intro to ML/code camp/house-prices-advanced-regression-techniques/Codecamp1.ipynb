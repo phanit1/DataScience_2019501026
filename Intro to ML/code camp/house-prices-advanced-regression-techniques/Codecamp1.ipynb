{
 "cells": [
  {
   "cell_type": "code",
   "execution_count": 54,
   "metadata": {},
   "outputs": [],
   "source": [
    "import pandas as pd\n",
    "import numpy as np\n",
    "import matplotlib.pyplot as plt\n",
    "from sklearn.preprocessing import OneHotEncoder\n",
    "from sklearn.model_selection import train_test_split\n",
    "from sklearn import preprocessing\n",
    "from sklearn.impute import KNNImputer\n",
    "from sklearn.linear_model import Ridge\n",
    "from sklearn.linear_model import LinearRegression\n",
    "from sklearn.metrics import mean_squared_error as mserr\n",
    "from sklearn.decomposition import PCA"
   ]
  },
  {
   "cell_type": "code",
   "execution_count": 55,
   "metadata": {},
   "outputs": [],
   "source": [
    "path='C:\\\\Users\\\\personal\\\\Desktop\\\\MSIT\\\\IT\\\\DataScience_2019501026\\\\Intro to ML\\\\code camp\\\\house-prices-advanced-regression-techniques\\\\'\n",
    "train = path + \"train.csv\"\n",
    "test = path + \"test.csv\""
   ]
  },
  {
   "cell_type": "code",
   "execution_count": 56,
   "metadata": {
    "tags": []
   },
   "outputs": [
    {
     "output_type": "stream",
     "name": "stdout",
     "text": "(1460, 80)\n"
    }
   ],
   "source": [
    "trainx_df = pd.read_csv(train, index_col = 'Id')\n",
    "print(trainx_df.shape)"
   ]
  },
  {
   "cell_type": "code",
   "execution_count": 57,
   "metadata": {
    "tags": []
   },
   "outputs": [
    {
     "output_type": "stream",
     "name": "stdout",
     "text": "(1460,)\n"
    }
   ],
   "source": [
    "trainy_df = trainx_df['SalePrice']\n",
    "print(trainy_df.shape)"
   ]
  },
  {
   "cell_type": "code",
   "execution_count": 58,
   "metadata": {
    "tags": []
   },
   "outputs": [
    {
     "output_type": "stream",
     "name": "stdout",
     "text": "MSSubClass         0\nMSZoning           0\nLotFrontage      259\nLotArea            0\nStreet             0\n                ... \nMiscVal            0\nMoSold             0\nYrSold             0\nSaleType           0\nSaleCondition      0\nLength: 79, dtype: int64\n"
    }
   ],
   "source": [
    "trainx_df.drop('SalePrice', axis=1, inplace=True)\n",
    "testx_df = pd.read_csv(test, index_col='Id')\n",
    "print(trainx_df.isnull().sum())"
   ]
  },
  {
   "cell_type": "code",
   "execution_count": 59,
   "metadata": {
    "tags": []
   },
   "outputs": [
    {
     "output_type": "stream",
     "name": "stdout",
     "text": "[['LotFrontage', 0.1773972602739726], ['Alley', 0.9376712328767123], ['MasVnrType', 0.005479452054794521], ['MasVnrArea', 0.005479452054794521], ['BsmtQual', 0.025342465753424658], ['BsmtCond', 0.025342465753424658], ['BsmtExposure', 0.026027397260273973], ['BsmtFinType1', 0.025342465753424658], ['BsmtFinType2', 0.026027397260273973], ['Electrical', 0.0006849315068493151], ['FireplaceQu', 0.4726027397260274], ['GarageType', 0.05547945205479452], ['GarageYrBlt', 0.05547945205479452], ['GarageFinish', 0.05547945205479452], ['GarageQual', 0.05547945205479452], ['GarageCond', 0.05547945205479452], ['PoolQC', 0.9952054794520548], ['Fence', 0.8075342465753425], ['MiscFeature', 0.963013698630137]]\n"
    }
   ],
   "source": [
    "sample_size = len(trainx_df)\n",
    "columns_with_null_values = []\n",
    "columns_with_null_values = [[col, float(trainx_df[col].isnull().sum())/float(sample_size)] for col in trainx_df.columns if trainx_df[col].isnull().sum()]\n",
    "print(columns_with_null_values)"
   ]
  },
  {
   "cell_type": "code",
   "execution_count": 60,
   "metadata": {
    "tags": []
   },
   "outputs": [
    {
     "output_type": "stream",
     "name": "stdout",
     "text": "['Alley', 'FireplaceQu', 'PoolQC', 'Fence', 'MiscFeature']\n"
    }
   ],
   "source": [
    "columns_to_drop = [x for (x,y) in columns_with_null_values if y>.3]\n",
    "print(columns_to_drop)"
   ]
  },
  {
   "cell_type": "code",
   "execution_count": 61,
   "metadata": {},
   "outputs": [],
   "source": [
    "trainx_df.drop(columns_to_drop, axis = 1, inplace=True)\n",
    "testx_df.drop(columns_to_drop, axis=1, inplace=True)"
   ]
  },
  {
   "cell_type": "code",
   "execution_count": 62,
   "metadata": {
    "tags": []
   },
   "outputs": [
    {
     "output_type": "stream",
     "name": "stdout",
     "text": "['MSZoning', 'Street', 'LotShape', 'LandContour', 'Utilities', 'LotConfig', 'LandSlope', 'Neighborhood', 'Condition1', 'Condition2', 'BldgType', 'HouseStyle', 'RoofStyle', 'RoofMatl', 'Exterior1st', 'Exterior2nd', 'MasVnrType', 'ExterQual', 'ExterCond', 'Foundation', 'BsmtQual', 'BsmtCond', 'BsmtExposure', 'BsmtFinType1', 'BsmtFinType2', 'Heating', 'HeatingQC', 'CentralAir', 'Electrical', 'KitchenQual', 'Functional', 'GarageType', 'GarageFinish', 'GarageQual', 'GarageCond', 'PavedDrive', 'SaleType', 'SaleCondition']\n"
    }
   ],
   "source": [
    "categorical_columns = [col for col in trainx_df.columns if\n",
    "                      trainx_df[col].dtype == object]\n",
    "ordinal_columns = [col for col in trainx_df.columns if col not in categorical_columns]\n",
    "# categorical_columns.append('MSSubClass')\n",
    "print(categorical_columns)"
   ]
  },
  {
   "cell_type": "code",
   "execution_count": 63,
   "metadata": {
    "tags": []
   },
   "outputs": [
    {
     "output_type": "stream",
     "name": "stdout",
     "text": "['', 'dummy', '', '', 'dummy', 'dummy', 'dummy', 'dummy', 'dummy', 'dummy', 'dummy', 'dummy', 'dummy', 'dummy', 'dummy', '', '', '', '', 'dummy', 'dummy', 'dummy', 'dummy', 'dummy', '', 'dummy', 'dummy', 'dummy', 'dummy', 'dummy', 'dummy', 'dummy', '', 'dummy', '', '', '', 'dummy', 'dummy', 'dummy', 'dummy', '', '', '', '', '', '', '', '', '', '', 'dummy', '', 'dummy', '', 'dummy', '', 'dummy', '', '', 'dummy', 'dummy', 'dummy', '', '', '', '', '', '', '', '', '', 'dummy', 'dummy']\n"
    }
   ],
   "source": [
    "dummy_row = list()\n",
    "for col in trainx_df.columns:\n",
    "    if col in categorical_columns:\n",
    "        dummy_row.append(\"dummy\")\n",
    "    else:\n",
    "        dummy_row.append(\"\")\n",
    "print(dummy_row)"
   ]
  },
  {
   "cell_type": "code",
   "execution_count": 64,
   "metadata": {},
   "outputs": [],
   "source": [
    "new_row = pd.DataFrame([dummy_row], columns = trainx_df.columns)\n",
    "trainx_df = pd.concat([trainx_df, new_row], axis = 0, ignore_index = True)\n",
    "testx_df = pd.concat([testx_df], axis = 0, ignore_index = True)\n",
    "# trainx_df.to_csv[\"dummy.csv\"]\n",
    "for col in categorical_columns:\n",
    "    trainx_df[col].fillna(value = \"dummy\", inplace = True)\n",
    "    testx_df[col].fillna(value = \"dummy\", inplace = True)"
   ]
  },
  {
   "cell_type": "code",
   "execution_count": 65,
   "metadata": {
    "tags": []
   },
   "outputs": [
    {
     "output_type": "stream",
     "name": "stdout",
     "text": "0      0\n1      0\n2      0\n3      0\n4      0\n      ..\n265    0\n266    0\n267    0\n268    0\n269    0\nLength: 270, dtype: int64\n"
    }
   ],
   "source": [
    "enc = OneHotEncoder(drop='first',sparse=False)\n",
    "enc.fit(trainx_df[categorical_columns])\n",
    "#print(enc.get_feature_names(categorical_columns))\n",
    "trainx_enc=pd.DataFrame(enc.transform(trainx_df[categorical_columns]))\n",
    "testx_enc = pd.DataFrame(enc.transform(testx_df[categorical_columns]))\n",
    "trainx_enc.columns=enc.get_feature_names(categorical_columns)\n",
    "testx_enc.columns=enc.get_feature_names(categorical_columns)\n",
    "trainx_df=pd.concat([trainx_df[ordinal_columns],trainx_enc],axis=1,ignore_index=\n",
    "                    True)\n",
    "testx_df=pd.concat([testx_df[ordinal_columns],testx_enc],axis=1,ignore_index=\n",
    "                    True)\n",
    "trainx_df.drop(trainx_df.tail(1).index,inplace=True)\n",
    "imputer = KNNImputer(n_neighbors=2)\n",
    "imputer.fit(trainx_df)\n",
    "trainx_df_filled=imputer.transform(trainx_df)\n",
    "trainx_df_filled = pd.DataFrame(trainx_df_filled,columns=trainx_df.columns)\n",
    "testx_df_filled=imputer.transform(testx_df)\n",
    "testx_df_filled = pd.DataFrame(testx_df_filled,columns=testx_df.columns)\n",
    "testx_df_filled.reset_index(drop=True,inplace=True)\n",
    "print(trainx_df_filled.isnull().sum())"
   ]
  },
  {
   "cell_type": "code",
   "execution_count": 68,
   "metadata": {
    "tags": []
   },
   "outputs": [
    {
     "output_type": "stream",
     "name": "stdout",
     "text": "[[ 0.07337496 -0.20803433 -0.20714171 ...  0.4676514  -0.30599503\n   0.        ]\n [-0.87256276  0.40989452 -0.09188637 ...  0.4676514  -0.30599503\n   0.        ]\n [ 0.07337496 -0.08444856  0.07347998 ...  0.4676514  -0.30599503\n   0.        ]\n ...\n [ 0.30985939 -0.16683907 -0.14781027 ...  0.4676514  -0.30599503\n   0.        ]\n [-0.87256276 -0.08444856 -0.08016039 ...  0.4676514  -0.30599503\n   0.        ]\n [-0.87256276  0.20391824 -0.05811155 ...  0.4676514  -0.30599503\n   0.        ]] [[-0.87256276  0.40989452  0.11076257 ...  0.4676514  -0.30599503\n   0.        ]\n [-0.87256276  0.45108977  0.37584985 ...  0.4676514  -0.30599503\n   0.        ]\n [ 0.07337496  0.16272298  0.33205282 ...  0.4676514  -0.30599503\n   0.        ]\n ...\n [-0.87256276  3.70551504  0.95042275 ... -2.13834494 -0.30599503\n   0.        ]\n [ 0.66458604 -0.3316201  -0.00759964 ...  0.4676514  -0.30599503\n   0.        ]\n [ 0.07337496  0.16272298 -0.08918038 ...  0.4676514  -0.30599503\n   0.        ]]\n"
    }
   ],
   "source": [
    "scale = 'Standard'\n",
    "if scale == 'Standard':\n",
    "    scaler = preprocessing.StandardScaler().fit(trainx_df)\n",
    "    trainx_df=scaler.transform(trainx_df)\n",
    "    testx_df=scaler.transform(testx_df)\n",
    "elif scale == 'MinMax':\n",
    "    scaler=preprocessing.MinMaxScaler().fit(trainx_df)\n",
    "    trainx_df=scaler.transform(trainx_df)\n",
    "    testx_df=scaler.transform(testx_df)\n",
    "print(trainx_df,testx_df)"
   ]
  },
  {
   "cell_type": "code",
   "execution_count": null,
   "metadata": {},
   "outputs": [],
   "source": []
  }
 ],
 "metadata": {
  "kernelspec": {
   "display_name": "Python 3",
   "language": "python",
   "name": "python3"
  },
  "language_info": {
   "codemirror_mode": {
    "name": "ipython",
    "version": 3
   },
   "file_extension": ".py",
   "mimetype": "text/x-python",
   "name": "python",
   "nbconvert_exporter": "python",
   "pygments_lexer": "ipython3",
   "version": "3.8.3-final"
  }
 },
 "nbformat": 4,
 "nbformat_minor": 2
}